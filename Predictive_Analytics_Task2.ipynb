{
  "nbformat": 4,
  "nbformat_minor": 0,
  "metadata": {
    "colab": {
      "name": "Predictive_Analytics_Task2.ipynb",
      "provenance": [],
      "authorship_tag": "ABX9TyMRmqL6zhpBgcSlJPkMROZG",
      "include_colab_link": true
    },
    "kernelspec": {
      "name": "python3",
      "display_name": "Python 3"
    },
    "language_info": {
      "name": "python"
    }
  },
  "cells": [
    {
      "cell_type": "markdown",
      "metadata": {
        "id": "view-in-github",
        "colab_type": "text"
      },
      "source": [
        "<a href=\"https://colab.research.google.com/github/prashant-027/YBI_Handson_Project/blob/main/Predictive_Analytics_Task2.ipynb\" target=\"_parent\"><img src=\"https://colab.research.google.com/assets/colab-badge.svg\" alt=\"Open In Colab\"/></a>"
      ]
    },
    {
      "cell_type": "markdown",
      "source": [
        "# **Task 2 - Hand Written Digit Prediction-Classification Analysis**"
      ],
      "metadata": {
        "id": "eHIVVBeIaTFj"
      }
    },
    {
      "cell_type": "markdown",
      "source": [
        "# **Import Library**"
      ],
      "metadata": {
        "id": "mMWtQzWfaTBZ"
      }
    },
    {
      "cell_type": "code",
      "source": [
        "import pandas as pd\n",
        "import numpy as np\n",
        "import matplotlib.pyplot as plt\n",
        "import seaborn as sns"
      ],
      "metadata": {
        "id": "AhRx_nO3abt-"
      },
      "execution_count": 2,
      "outputs": []
    },
    {
      "cell_type": "markdown",
      "source": [
        "# **Import Data**"
      ],
      "metadata": {
        "id": "zHc9hdctaS-Q"
      }
    },
    {
      "cell_type": "code",
      "source": [
        "from sklearn.datasets import load_digits"
      ],
      "metadata": {
        "id": "RGXqcnYSah4E"
      },
      "execution_count": 3,
      "outputs": []
    },
    {
      "cell_type": "code",
      "source": [
        "df = load_digits()"
      ],
      "metadata": {
        "id": "z1k0PQw-ahst"
      },
      "execution_count": 4,
      "outputs": []
    },
    {
      "cell_type": "code",
      "source": [
        "_, axes = plt.subplots(nrows=1, ncols=10, figsize=(10,3))\n",
        "for ax, image, label in zip(axes, df.images, df.target):\n",
        "    ax.set_axis_off()\n",
        "    ax.imshow(image, cmap = plt.cm.gray_r, interpolation = \"nearest\")\n",
        "    ax.set_title(\"Training: %i\" % label)"
      ],
      "metadata": {
        "colab": {
          "base_uri": "https://localhost:8080/",
          "height": 94
        },
        "id": "VpaZlfV7ahC1",
        "outputId": "a6ceda37-365c-41a4-d1db-b5913444fdcd"
      },
      "execution_count": 5,
      "outputs": [
        {
          "output_type": "display_data",
          "data": {
            "text/plain": [
              "<Figure size 720x216 with 10 Axes>"
            ],
            "image/png": "[encoded data removed]"
          },
          "metadata": {
            "needs_background": "light"
          }
        }
      ]
    },
    {
      "cell_type": "markdown",
      "source": [
        "# **Data Preprocessing**"
      ],
      "metadata": {
        "id": "trBedSknaS6x"
      }
    },
    {
      "cell_type": "markdown",
      "source": [
        "**Flatten Image**"
      ],
      "metadata": {
        "id": "NNx3C6XvaS2J"
      }
    },
    {
      "cell_type": "code",
      "source": [
        "df.images.shape"
      ],
      "metadata": {
        "colab": {
          "base_uri": "https://localhost:8080/"
        },
        "id": "GTDHxIpra4Rr",
        "outputId": "72ca1216-aacc-44d3-83d1-e03678b89fc3"
      },
      "execution_count": 6,
      "outputs": [
        {
          "output_type": "execute_result",
          "data": {
            "text/plain": [
              "(1797, 8, 8)"
            ]
          },
          "metadata": {},
          "execution_count": 6
        }
      ]
    },
    {
      "cell_type": "code",
      "source": [
        "df.images[0]"
      ],
      "metadata": {
        "colab": {
          "base_uri": "https://localhost:8080/"
        },
        "id": "epVkNor6a4Jr",
        "outputId": "2bbceaf1-a596-4ac9-86d7-f4f16001df34"
      },
      "execution_count": 7,
      "outputs": [
        {
          "output_type": "execute_result",
          "data": {
            "text/plain": [
              "array([[ 0.,  0.,  5., 13.,  9.,  1.,  0.,  0.],\n",
              "       [ 0.,  0., 13., 15., 10., 15.,  5.,  0.],\n",
              "       [ 0.,  3., 15.,  2.,  0., 11.,  8.,  0.],\n",
              "       [ 0.,  4., 12.,  0.,  0.,  8.,  8.,  0.],\n",
              "       [ 0.,  5.,  8.,  0.,  0.,  9.,  8.,  0.],\n",
              "       [ 0.,  4., 11.,  0.,  1., 12.,  7.,  0.],\n",
              "       [ 0.,  2., 14.,  5., 10., 12.,  0.,  0.],\n",
              "       [ 0.,  0.,  6., 13., 10.,  0.,  0.,  0.]])"
            ]
          },
          "metadata": {},
          "execution_count": 7
        }
      ]
    },
    {
      "cell_type": "code",
      "source": [
        "df.images[0].shape"
      ],
      "metadata": {
        "colab": {
          "base_uri": "https://localhost:8080/"
        },
        "id": "bzc-WTG1a3_Y",
        "outputId": "1d5dfe9f-daf9-42f1-c885-1e04304bbc0a"
      },
      "execution_count": 8,
      "outputs": [
        {
          "output_type": "execute_result",
          "data": {
            "text/plain": [
              "(8, 8)"
            ]
          },
          "metadata": {},
          "execution_count": 8
        }
      ]
    },
    {
      "cell_type": "code",
      "source": [
        "n_samples = len(df.images)\n",
        "data = df.images.reshape((n_samples, -1))"
      ],
      "metadata": {
        "id": "sUVs7954a332"
      },
      "execution_count": 9,
      "outputs": []
    },
    {
      "cell_type": "code",
      "source": [
        "data[0]"
      ],
      "metadata": {
        "colab": {
          "base_uri": "https://localhost:8080/"
        },
        "id": "z-C3Zp5Xa3n3",
        "outputId": "a63f6345-5354-4423-8cb4-72e6125c3f81"
      },
      "execution_count": 10,
      "outputs": [
        {
          "output_type": "execute_result",
          "data": {
            "text/plain": [
              "array([ 0.,  0.,  5., 13.,  9.,  1.,  0.,  0.,  0.,  0., 13., 15., 10.,\n",
              "       15.,  5.,  0.,  0.,  3., 15.,  2.,  0., 11.,  8.,  0.,  0.,  4.,\n",
              "       12.,  0.,  0.,  8.,  8.,  0.,  0.,  5.,  8.,  0.,  0.,  9.,  8.,\n",
              "        0.,  0.,  4., 11.,  0.,  1., 12.,  7.,  0.,  0.,  2., 14.,  5.,\n",
              "       10., 12.,  0.,  0.,  0.,  0.,  6., 13., 10.,  0.,  0.,  0.])"
            ]
          },
          "metadata": {},
          "execution_count": 10
        }
      ]
    },
    {
      "cell_type": "code",
      "source": [
        "data[0].shape"
      ],
      "metadata": {
        "colab": {
          "base_uri": "https://localhost:8080/"
        },
        "id": "fZ0vNqRha3eO",
        "outputId": "5caf7d43-53cf-4e0f-8b8d-8351b921a3fc"
      },
      "execution_count": 11,
      "outputs": [
        {
          "output_type": "execute_result",
          "data": {
            "text/plain": [
              "(64,)"
            ]
          },
          "metadata": {},
          "execution_count": 11
        }
      ]
    },
    {
      "cell_type": "code",
      "source": [
        "data.shape"
      ],
      "metadata": {
        "colab": {
          "base_uri": "https://localhost:8080/"
        },
        "id": "vCa7tHYGa3FA",
        "outputId": "9c51577d-bc10-43cd-c710-290aa3ab9ccc"
      },
      "execution_count": 12,
      "outputs": [
        {
          "output_type": "execute_result",
          "data": {
            "text/plain": [
              "(1797, 64)"
            ]
          },
          "metadata": {},
          "execution_count": 12
        }
      ]
    },
    {
      "cell_type": "markdown",
      "source": [
        "# **Scaling Data**"
      ],
      "metadata": {
        "id": "EBx3HgeLaSsi"
      }
    },
    {
      "cell_type": "code",
      "execution_count": 13,
      "metadata": {
        "colab": {
          "base_uri": "https://localhost:8080/"
        },
        "id": "4EUBM6WgZ1H4",
        "outputId": "cf8ed10a-7602-407e-d489-4c491d5ffc1c"
      },
      "outputs": [
        {
          "output_type": "execute_result",
          "data": {
            "text/plain": [
              "0.0"
            ]
          },
          "metadata": {},
          "execution_count": 13
        }
      ],
      "source": [
        "data.min()"
      ]
    },
    {
      "cell_type": "code",
      "source": [
        "data.max()"
      ],
      "metadata": {
        "colab": {
          "base_uri": "https://localhost:8080/"
        },
        "id": "RJdAy1h6bTIA",
        "outputId": "c5b90d7f-ca77-4ebf-e795-5264a26f6244"
      },
      "execution_count": 14,
      "outputs": [
        {
          "output_type": "execute_result",
          "data": {
            "text/plain": [
              "16.0"
            ]
          },
          "metadata": {},
          "execution_count": 14
        }
      ]
    },
    {
      "cell_type": "code",
      "source": [
        "data = data/16"
      ],
      "metadata": {
        "id": "ig9_USAybTxv"
      },
      "execution_count": 15,
      "outputs": []
    },
    {
      "cell_type": "code",
      "source": [
        "data.min()"
      ],
      "metadata": {
        "colab": {
          "base_uri": "https://localhost:8080/"
        },
        "id": "Mm_NEjaQbTp3",
        "outputId": "b8bc5efd-458f-49c9-a0e2-1fa00213d4d9"
      },
      "execution_count": 16,
      "outputs": [
        {
          "output_type": "execute_result",
          "data": {
            "text/plain": [
              "0.0"
            ]
          },
          "metadata": {},
          "execution_count": 16
        }
      ]
    },
    {
      "cell_type": "code",
      "source": [
        "data.max()"
      ],
      "metadata": {
        "colab": {
          "base_uri": "https://localhost:8080/"
        },
        "id": "zYVqrhwgbThI",
        "outputId": "fed2ca1d-8ac3-4cdf-b78c-9b2fb1c03cd6"
      },
      "execution_count": 17,
      "outputs": [
        {
          "output_type": "execute_result",
          "data": {
            "text/plain": [
              "1.0"
            ]
          },
          "metadata": {},
          "execution_count": 17
        }
      ]
    },
    {
      "cell_type": "code",
      "source": [
        "data[0]"
      ],
      "metadata": {
        "colab": {
          "base_uri": "https://localhost:8080/"
        },
        "id": "18x0gdLjbTWb",
        "outputId": "badc5272-e045-4d1e-84ba-1ec9c7087b14"
      },
      "execution_count": 18,
      "outputs": [
        {
          "output_type": "execute_result",
          "data": {
            "text/plain": [
              "array([0.    , 0.    , 0.3125, 0.8125, 0.5625, 0.0625, 0.    , 0.    ,\n",
              "       0.    , 0.    , 0.8125, 0.9375, 0.625 , 0.9375, 0.3125, 0.    ,\n",
              "       0.    , 0.1875, 0.9375, 0.125 , 0.    , 0.6875, 0.5   , 0.    ,\n",
              "       0.    , 0.25  , 0.75  , 0.    , 0.    , 0.5   , 0.5   , 0.    ,\n",
              "       0.    , 0.3125, 0.5   , 0.    , 0.    , 0.5625, 0.5   , 0.    ,\n",
              "       0.    , 0.25  , 0.6875, 0.    , 0.0625, 0.75  , 0.4375, 0.    ,\n",
              "       0.    , 0.125 , 0.875 , 0.3125, 0.625 , 0.75  , 0.    , 0.    ,\n",
              "       0.    , 0.    , 0.375 , 0.8125, 0.625 , 0.    , 0.    , 0.    ])"
            ]
          },
          "metadata": {},
          "execution_count": 18
        }
      ]
    },
    {
      "cell_type": "markdown",
      "source": [
        "# **Train Test Split Data**"
      ],
      "metadata": {
        "id": "t148zbmVZ8yJ"
      }
    },
    {
      "cell_type": "code",
      "source": [
        "from sklearn.model_selection import train_test_split"
      ],
      "metadata": {
        "id": "uMbQO0lebnC_"
      },
      "execution_count": 19,
      "outputs": []
    },
    {
      "cell_type": "code",
      "source": [
        "X_train, X_test, y_train, y_test = train_test_split(data, df.target, train_size = 0.7, random_state = 162529)"
      ],
      "metadata": {
        "id": "sL5CWlFNbnoe"
      },
      "execution_count": 20,
      "outputs": []
    },
    {
      "cell_type": "code",
      "source": [
        "X_train.shape, X_test.shape, y_train.shape, y_test.shape"
      ],
      "metadata": {
        "colab": {
          "base_uri": "https://localhost:8080/"
        },
        "id": "u8see32Xbnb9",
        "outputId": "4ebc06e9-eede-4c13-eb7c-3f3ebe56356d"
      },
      "execution_count": 21,
      "outputs": [
        {
          "output_type": "execute_result",
          "data": {
            "text/plain": [
              "((1257, 64), (540, 64), (1257,), (540,))"
            ]
          },
          "metadata": {},
          "execution_count": 21
        }
      ]
    },
    {
      "cell_type": "markdown",
      "source": [
        "# **Random Forest Model**"
      ],
      "metadata": {
        "id": "siiyJ8nibuRg"
      }
    },
    {
      "cell_type": "code",
      "source": [
        "from sklearn.ensemble import RandomForestClassifier"
      ],
      "metadata": {
        "id": "-JEbqN0PdYdz"
      },
      "execution_count": 22,
      "outputs": []
    },
    {
      "cell_type": "code",
      "source": [
        "rf = RandomForestClassifier()"
      ],
      "metadata": {
        "id": "vvK8HfdydYTq"
      },
      "execution_count": 23,
      "outputs": []
    },
    {
      "cell_type": "code",
      "source": [
        "rf.fit(X_train, y_train)"
      ],
      "metadata": {
        "colab": {
          "base_uri": "https://localhost:8080/"
        },
        "id": "ChFin2zGdYNa",
        "outputId": "67d1ab48-28cf-474d-e792-cdebc1d00e97"
      },
      "execution_count": 24,
      "outputs": [
        {
          "output_type": "execute_result",
          "data": {
            "text/plain": [
              "RandomForestClassifier()"
            ]
          },
          "metadata": {},
          "execution_count": 24
        }
      ]
    },
    {
      "cell_type": "markdown",
      "source": [
        "# **Predict Test Data**"
      ],
      "metadata": {
        "id": "QgHx8v_aeOTM"
      }
    },
    {
      "cell_type": "code",
      "source": [
        "y_pred = rf.predict(X_test)"
      ],
      "metadata": {
        "id": "2xyt4tnPdYCI"
      },
      "execution_count": 25,
      "outputs": []
    },
    {
      "cell_type": "code",
      "source": [
        "y_pred"
      ],
      "metadata": {
        "colab": {
          "base_uri": "https://localhost:8080/"
        },
        "id": "YwAqKCtBdXy0",
        "outputId": "b0630be5-35a8-4b8a-ea2f-d907248afe50"
      },
      "execution_count": 26,
      "outputs": [
        {
          "output_type": "execute_result",
          "data": {
            "text/plain": [
              "array([9, 8, 2, 1, 4, 8, 1, 3, 1, 7, 9, 6, 5, 0, 7, 8, 8, 4, 1, 9, 1, 2,\n",
              "       7, 5, 9, 7, 4, 7, 3, 1, 0, 7, 3, 0, 0, 6, 0, 6, 9, 2, 1, 4, 3, 7,\n",
              "       2, 2, 8, 7, 4, 8, 5, 5, 9, 7, 5, 1, 1, 4, 2, 6, 3, 7, 0, 1, 4, 1,\n",
              "       4, 5, 3, 2, 3, 3, 8, 7, 4, 0, 2, 4, 0, 5, 5, 6, 3, 7, 0, 4, 3, 1,\n",
              "       0, 0, 8, 5, 6, 1, 3, 6, 0, 2, 9, 8, 1, 6, 1, 2, 2, 4, 7, 2, 3, 7,\n",
              "       2, 8, 2, 8, 0, 6, 8, 5, 0, 6, 8, 7, 1, 3, 3, 2, 4, 7, 5, 0, 9, 4,\n",
              "       1, 9, 1, 6, 5, 3, 1, 1, 9, 4, 5, 8, 7, 8, 0, 2, 9, 2, 2, 5, 0, 0,\n",
              "       7, 2, 7, 9, 5, 1, 4, 9, 4, 7, 7, 0, 5, 2, 5, 5, 4, 3, 3, 7, 1, 0,\n",
              "       8, 2, 5, 0, 7, 0, 3, 8, 3, 9, 0, 0, 1, 4, 5, 9, 7, 9, 8, 0, 2, 1,\n",
              "       8, 7, 4, 2, 2, 7, 0, 6, 5, 3, 3, 6, 1, 1, 5, 2, 1, 7, 4, 3, 6, 7,\n",
              "       6, 3, 5, 4, 3, 3, 5, 7, 4, 1, 9, 6, 9, 2, 3, 2, 2, 9, 8, 7, 3, 3,\n",
              "       1, 2, 1, 6, 9, 1, 1, 7, 8, 0, 0, 8, 0, 6, 4, 8, 5, 6, 3, 5, 7, 0,\n",
              "       8, 5, 6, 6, 9, 1, 0, 6, 1, 1, 1, 0, 2, 1, 5, 1, 8, 4, 6, 3, 6, 5,\n",
              "       1, 2, 5, 5, 8, 4, 9, 5, 2, 6, 1, 8, 3, 6, 0, 7, 6, 4, 7, 4, 9, 5,\n",
              "       8, 2, 5, 1, 6, 5, 8, 7, 9, 4, 0, 6, 5, 0, 0, 6, 6, 7, 6, 7, 1, 6,\n",
              "       2, 4, 9, 0, 4, 1, 0, 3, 4, 3, 4, 6, 9, 5, 2, 2, 7, 9, 2, 6, 4, 5,\n",
              "       4, 0, 0, 1, 9, 9, 2, 5, 2, 6, 0, 6, 3, 2, 2, 8, 6, 3, 4, 4, 9, 4,\n",
              "       7, 7, 5, 2, 1, 6, 9, 9, 7, 0, 5, 1, 3, 3, 0, 9, 1, 4, 4, 7, 2, 3,\n",
              "       9, 8, 7, 3, 2, 7, 0, 7, 8, 7, 7, 5, 1, 9, 0, 3, 7, 7, 0, 3, 3, 9,\n",
              "       4, 8, 8, 3, 1, 2, 9, 9, 5, 7, 4, 5, 1, 3, 9, 5, 9, 6, 4, 7, 5, 0,\n",
              "       8, 1, 7, 9, 1, 2, 8, 8, 5, 5, 9, 9, 2, 4, 0, 4, 6, 0, 0, 0, 5, 5,\n",
              "       9, 4, 9, 2, 8, 2, 6, 0, 7, 4, 4, 8, 2, 2, 4, 0, 8, 9, 0, 0, 1, 1,\n",
              "       5, 1, 9, 6, 6, 5, 0, 7, 6, 0, 4, 8, 8, 8, 8, 4, 1, 3, 6, 8, 5, 0,\n",
              "       3, 7, 2, 3, 7, 3, 9, 0, 4, 7, 3, 9, 2, 8, 7, 0, 6, 6, 1, 7, 2, 3,\n",
              "       9, 5, 4, 4, 8, 1, 9, 1, 9, 6, 9, 1])"
            ]
          },
          "metadata": {},
          "execution_count": 26
        }
      ]
    },
    {
      "cell_type": "markdown",
      "source": [
        "# **Model Accuracy**"
      ],
      "metadata": {
        "id": "FddOC31_eh3Q"
      }
    },
    {
      "cell_type": "code",
      "source": [
        "from sklearn.metrics import confusion_matrix,classification_report"
      ],
      "metadata": {
        "id": "lYlbE_v1eboV"
      },
      "execution_count": 27,
      "outputs": []
    },
    {
      "cell_type": "code",
      "source": [
        "confusion_matrix(y_test, y_pred)"
      ],
      "metadata": {
        "colab": {
          "base_uri": "https://localhost:8080/"
        },
        "id": "1ZfVnDx2ebho",
        "outputId": "784f71fa-3db9-430b-dee1-bd3159f111ee"
      },
      "execution_count": 28,
      "outputs": [
        {
          "output_type": "execute_result",
          "data": {
            "text/plain": [
              "array([[59,  0,  0,  0,  0,  0,  0,  0,  0,  0],\n",
              "       [ 0, 57,  0,  0,  0,  0,  0,  0,  0,  0],\n",
              "       [ 0,  0, 54,  0,  0,  0,  0,  0,  0,  0],\n",
              "       [ 0,  0,  0, 48,  0,  0,  0,  0,  1,  0],\n",
              "       [ 0,  0,  0,  0, 53,  0,  0,  2,  0,  0],\n",
              "       [ 0,  0,  0,  0,  0, 53,  0,  0,  0,  1],\n",
              "       [ 1,  0,  0,  0,  0,  0, 49,  0,  0,  0],\n",
              "       [ 0,  0,  0,  0,  0,  0,  0, 57,  0,  0],\n",
              "       [ 0,  3,  0,  0,  1,  0,  0,  0, 45,  0],\n",
              "       [ 0,  0,  0,  2,  0,  1,  0,  0,  1, 52]])"
            ]
          },
          "metadata": {},
          "execution_count": 28
        }
      ]
    },
    {
      "cell_type": "code",
      "source": [
        "print(classification_report(y_test, y_pred))"
      ],
      "metadata": {
        "colab": {
          "base_uri": "https://localhost:8080/"
        },
        "id": "4DvBsc8pebVz",
        "outputId": "494b5847-b643-473e-bf6b-720198484fb9"
      },
      "execution_count": 29,
      "outputs": [
        {
          "output_type": "stream",
          "name": "stdout",
          "text": [
            "              precision    recall  f1-score   support\n",
            "\n",
            "           0       0.98      1.00      0.99        59\n",
            "           1       0.95      1.00      0.97        57\n",
            "           2       1.00      1.00      1.00        54\n",
            "           3       0.96      0.98      0.97        49\n",
            "           4       0.98      0.96      0.97        55\n",
            "           5       0.98      0.98      0.98        54\n",
            "           6       1.00      0.98      0.99        50\n",
            "           7       0.97      1.00      0.98        57\n",
            "           8       0.96      0.92      0.94        49\n",
            "           9       0.98      0.93      0.95        56\n",
            "\n",
            "    accuracy                           0.98       540\n",
            "   macro avg       0.98      0.98      0.98       540\n",
            "weighted avg       0.98      0.98      0.98       540\n",
            "\n"
          ]
        }
      ]
    },
    {
      "cell_type": "markdown",
      "source": [
        "__________________________________________"
      ],
      "metadata": {
        "id": "l_FVhDQZf1pZ"
      }
    }
  ]
}