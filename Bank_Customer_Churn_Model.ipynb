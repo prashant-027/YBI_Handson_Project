{
  "nbformat": 4,
  "nbformat_minor": 0,
  "metadata": {
    "colab": {
      "name": "Bank_Customer_Churn_Model.ipynb",
      "provenance": [],
      "collapsed_sections": [],
      "authorship_tag": "ABX9TyMLH/y6SCRPLMFbhizzOAdD",
      "include_colab_link": true
    },
    "kernelspec": {
      "name": "python3",
      "display_name": "Python 3"
    },
    "language_info": {
      "name": "python"
    }
  },
  "cells": [
    {
      "cell_type": "markdown",
      "metadata": {
        "id": "view-in-github",
        "colab_type": "text"
      },
      "source": [
        "<a href=\"https://colab.research.google.com/github/prashant-027/YBI_Handson_Project/blob/main/Bank_Customer_Churn_Model.ipynb\" target=\"_parent\"><img src=\"https://colab.research.google.com/assets/colab-badge.svg\" alt=\"Open In Colab\"/></a>"
      ]
    },
    {
      "cell_type": "markdown",
      "source": [
        "# **Bank Customer Churn Model**"
      ],
      "metadata": {
        "id": "YGldl6gAlS6_"
      }
    },
    {
      "cell_type": "markdown",
      "source": [
        "# **Import Data**"
      ],
      "metadata": {
        "id": "jfJtb-IZlSw4"
      }
    },
    {
      "cell_type": "code",
      "execution_count": 2,
      "metadata": {
        "id": "Y_Udtw8TkQZU"
      },
      "outputs": [],
      "source": [
        "import pandas as pd\n",
        "import numpy as np\n",
        "import matplotlib.pyplot as plt\n",
        "import seaborn as sns"
      ]
    },
    {
      "cell_type": "code",
      "source": [
        "df = pd.read_csv(\"https://github.com/YBI-Foundation/Dataset/raw/main/Bank%20Churn%20Modelling.csv\")"
      ],
      "metadata": {
        "id": "CpUqZ0PdlPEe"
      },
      "execution_count": 3,
      "outputs": []
    },
    {
      "cell_type": "code",
      "source": [
        "df.head()"
      ],
      "metadata": {
        "colab": {
          "base_uri": "https://localhost:8080/",
          "height": 206
        },
        "id": "dWS393CElPAg",
        "outputId": "30743caf-8878-44f0-8b40-9db8059f2d78"
      },
      "execution_count": 4,
      "outputs": [
        {
          "output_type": "execute_result",
          "data": {
            "text/plain": [
              "   CustomerId   Surname  CreditScore Geography  Gender  Age  Tenure  \\\n",
              "0    15634602  Hargrave          619    France  Female   42       2   \n",
              "1    15647311      Hill          608     Spain  Female   41       1   \n",
              "2    15619304      Onio          502    France  Female   42       8   \n",
              "3    15701354      Boni          699    France  Female   39       1   \n",
              "4    15737888  Mitchell          850     Spain  Female   43       2   \n",
              "\n",
              "     Balance  Num Of Products  Has Credit Card  Is Active Member  \\\n",
              "0       0.00                1                1                 1   \n",
              "1   83807.86                1                0                 1   \n",
              "2  159660.80                3                1                 0   \n",
              "3       0.00                2                0                 0   \n",
              "4  125510.82                1                1                 1   \n",
              "\n",
              "   Estimated Salary  Churn  \n",
              "0         101348.88      1  \n",
              "1         112542.58      0  \n",
              "2         113931.57      1  \n",
              "3          93826.63      0  \n",
              "4          79084.10      0  "
            ],
            "text/html": [
              "\n",
              "  <div id=\"df-3768720c-d42e-4030-a20a-2eda63ff8fe0\">\n",
              "    <div class=\"colab-df-container\">\n",
              "      <div>\n",
              "<style scoped>\n",
              "    .dataframe tbody tr th:only-of-type {\n",
              "        vertical-align: middle;\n",
              "    }\n",
              "\n",
              "    .dataframe tbody tr th {\n",
              "        vertical-align: top;\n",
              "    }\n",
              "\n",
              "    .dataframe thead th {\n",
              "        text-align: right;\n",
              "    }\n",
              "</style>\n",
              "<table border=\"1\" class=\"dataframe\">\n",
              "  <thead>\n",
              "    <tr style=\"text-align: right;\">\n",
              "      <th></th>\n",
              "      <th>CustomerId</th>\n",
              "      <th>Surname</th>\n",
              "      <th>CreditScore</th>\n",
              "      <th>Geography</th>\n",
              "      <th>Gender</th>\n",
              "      <th>Age</th>\n",
              "      <th>Tenure</th>\n",
              "      <th>Balance</th>\n",
              "      <th>Num Of Products</th>\n",
              "      <th>Has Credit Card</th>\n",
              "      <th>Is Active Member</th>\n",
              "      <th>Estimated Salary</th>\n",
              "      <th>Churn</th>\n",
              "    </tr>\n",
              "  </thead>\n",
              "  <tbody>\n",
              "    <tr>\n",
              "      <th>0</th>\n",
              "      <td>15634602</td>\n",
              "      <td>Hargrave</td>\n",
              "      <td>619</td>\n",
              "      <td>France</td>\n",
              "      <td>Female</td>\n",
              "      <td>42</td>\n",
              "      <td>2</td>\n",
              "      <td>0.00</td>\n",
              "      <td>1</td>\n",
              "      <td>1</td>\n",
              "      <td>1</td>\n",
              "      <td>101348.88</td>\n",
              "      <td>1</td>\n",
              "    </tr>\n",
              "    <tr>\n",
              "      <th>1</th>\n",
              "      <td>15647311</td>\n",
              "      <td>Hill</td>\n",
              "      <td>608</td>\n",
              "      <td>Spain</td>\n",
              "      <td>Female</td>\n",
              "      <td>41</td>\n",
              "      <td>1</td>\n",
              "      <td>83807.86</td>\n",
              "      <td>1</td>\n",
              "      <td>0</td>\n",
              "      <td>1</td>\n",
              "      <td>112542.58</td>\n",
              "      <td>0</td>\n",
              "    </tr>\n",
              "    <tr>\n",
              "      <th>2</th>\n",
              "      <td>15619304</td>\n",
              "      <td>Onio</td>\n",
              "      <td>502</td>\n",
              "      <td>France</td>\n",
              "      <td>Female</td>\n",
              "      <td>42</td>\n",
              "      <td>8</td>\n",
              "      <td>159660.80</td>\n",
              "      <td>3</td>\n",
              "      <td>1</td>\n",
              "      <td>0</td>\n",
              "      <td>113931.57</td>\n",
              "      <td>1</td>\n",
              "    </tr>\n",
              "    <tr>\n",
              "      <th>3</th>\n",
              "      <td>15701354</td>\n",
              "      <td>Boni</td>\n",
              "      <td>699</td>\n",
              "      <td>France</td>\n",
              "      <td>Female</td>\n",
              "      <td>39</td>\n",
              "      <td>1</td>\n",
              "      <td>0.00</td>\n",
              "      <td>2</td>\n",
              "      <td>0</td>\n",
              "      <td>0</td>\n",
              "      <td>93826.63</td>\n",
              "      <td>0</td>\n",
              "    </tr>\n",
              "    <tr>\n",
              "      <th>4</th>\n",
              "      <td>15737888</td>\n",
              "      <td>Mitchell</td>\n",
              "      <td>850</td>\n",
              "      <td>Spain</td>\n",
              "      <td>Female</td>\n",
              "      <td>43</td>\n",
              "      <td>2</td>\n",
              "      <td>125510.82</td>\n",
              "      <td>1</td>\n",
              "      <td>1</td>\n",
              "      <td>1</td>\n",
              "      <td>79084.10</td>\n",
              "      <td>0</td>\n",
              "    </tr>\n",
              "  </tbody>\n",
              "</table>\n",
              "</div>\n",
              "      <button class=\"colab-df-convert\" onclick=\"convertToInteractive('df-3768720c-d42e-4030-a20a-2eda63ff8fe0')\"\n",
              "              title=\"Convert this dataframe to an interactive table.\"\n",
              "              style=\"display:none;\">\n",
              "        \n",
              "  <svg xmlns=\"http://www.w3.org/2000/svg\" height=\"24px\"viewBox=\"0 0 24 24\"\n",
              "       width=\"24px\">\n",
              "    <path d=\"M0 0h24v24H0V0z\" fill=\"none\"/>\n",
              "    <path d=\"M18.56 5.44l.94 2.06.94-2.06 2.06-.94-2.06-.94-.94-2.06-.94 2.06-2.06.94zm-11 1L8.5 8.5l.94-2.06 2.06-.94-2.06-.94L8.5 2.5l-.94 2.06-2.06.94zm10 10l.94 2.06.94-2.06 2.06-.94-2.06-.94-.94-2.06-.94 2.06-2.06.94z\"/><path d=\"M17.41 7.96l-1.37-1.37c-.4-.4-.92-.59-1.43-.59-.52 0-1.04.2-1.43.59L10.3 9.45l-7.72 7.72c-.78.78-.78 2.05 0 2.83L4 21.41c.39.39.9.59 1.41.59.51 0 1.02-.2 1.41-.59l7.78-7.78 2.81-2.81c.8-.78.8-2.07 0-2.86zM5.41 20L4 18.59l7.72-7.72 1.47 1.35L5.41 20z\"/>\n",
              "  </svg>\n",
              "      </button>\n",
              "      \n",
              "  <style>\n",
              "    .colab-df-container {\n",
              "      display:flex;\n",
              "      flex-wrap:wrap;\n",
              "      gap: 12px;\n",
              "    }\n",
              "\n",
              "    .colab-df-convert {\n",
              "      background-color: #E8F0FE;\n",
              "      border: none;\n",
              "      border-radius: 50%;\n",
              "      cursor: pointer;\n",
              "      display: none;\n",
              "      fill: #1967D2;\n",
              "      height: 32px;\n",
              "      padding: 0 0 0 0;\n",
              "      width: 32px;\n",
              "    }\n",
              "\n",
              "    .colab-df-convert:hover {\n",
              "      background-color: #E2EBFA;\n",
              "      box-shadow: 0px 1px 2px rgba(60, 64, 67, 0.3), 0px 1px 3px 1px rgba(60, 64, 67, 0.15);\n",
              "      fill: #174EA6;\n",
              "    }\n",
              "\n",
              "    [theme=dark] .colab-df-convert {\n",
              "      background-color: #3B4455;\n",
              "      fill: #D2E3FC;\n",
              "    }\n",
              "\n",
              "    [theme=dark] .colab-df-convert:hover {\n",
              "      background-color: #434B5C;\n",
              "      box-shadow: 0px 1px 3px 1px rgba(0, 0, 0, 0.15);\n",
              "      filter: drop-shadow(0px 1px 2px rgba(0, 0, 0, 0.3));\n",
              "      fill: #FFFFFF;\n",
              "    }\n",
              "  </style>\n",
              "\n",
              "      <script>\n",
              "        const buttonEl =\n",
              "          document.querySelector('#df-3768720c-d42e-4030-a20a-2eda63ff8fe0 button.colab-df-convert');\n",
              "        buttonEl.style.display =\n",
              "          google.colab.kernel.accessAllowed ? 'block' : 'none';\n",
              "\n",
              "        async function convertToInteractive(key) {\n",
              "          const element = document.querySelector('#df-3768720c-d42e-4030-a20a-2eda63ff8fe0');\n",
              "          const dataTable =\n",
              "            await google.colab.kernel.invokeFunction('convertToInteractive',\n",
              "                                                     [key], {});\n",
              "          if (!dataTable) return;\n",
              "\n",
              "          const docLinkHtml = 'Like what you see? Visit the ' +\n",
              "            '<a target=\"_blank\" href=https://colab.research.google.com/notebooks/data_table.ipynb>data table notebook</a>'\n",
              "            + ' to learn more about interactive tables.';\n",
              "          element.innerHTML = '';\n",
              "          dataTable['output_type'] = 'display_data';\n",
              "          await google.colab.output.renderOutput(dataTable, element);\n",
              "          const docLink = document.createElement('div');\n",
              "          docLink.innerHTML = docLinkHtml;\n",
              "          element.appendChild(docLink);\n",
              "        }\n",
              "      </script>\n",
              "    </div>\n",
              "  </div>\n",
              "  "
            ]
          },
          "metadata": {},
          "execution_count": 4
        }
      ]
    },
    {
      "cell_type": "code",
      "source": [
        "df.info()"
      ],
      "metadata": {
        "colab": {
          "base_uri": "https://localhost:8080/"
        },
        "id": "7Y1bxEl-lO9B",
        "outputId": "ce906dfe-69fc-4ffc-92ef-b7122303bb02"
      },
      "execution_count": 5,
      "outputs": [
        {
          "output_type": "stream",
          "name": "stdout",
          "text": [
            "<class 'pandas.core.frame.DataFrame'>\n",
            "RangeIndex: 10000 entries, 0 to 9999\n",
            "Data columns (total 13 columns):\n",
            " #   Column            Non-Null Count  Dtype  \n",
            "---  ------            --------------  -----  \n",
            " 0   CustomerId        10000 non-null  int64  \n",
            " 1   Surname           10000 non-null  object \n",
            " 2   CreditScore       10000 non-null  int64  \n",
            " 3   Geography         10000 non-null  object \n",
            " 4   Gender            10000 non-null  object \n",
            " 5   Age               10000 non-null  int64  \n",
            " 6   Tenure            10000 non-null  int64  \n",
            " 7   Balance           10000 non-null  float64\n",
            " 8   Num Of Products   10000 non-null  int64  \n",
            " 9   Has Credit Card   10000 non-null  int64  \n",
            " 10  Is Active Member  10000 non-null  int64  \n",
            " 11  Estimated Salary  10000 non-null  float64\n",
            " 12  Churn             10000 non-null  int64  \n",
            "dtypes: float64(2), int64(8), object(3)\n",
            "memory usage: 1015.8+ KB\n"
          ]
        }
      ]
    },
    {
      "cell_type": "code",
      "source": [
        "df.describe()"
      ],
      "metadata": {
        "colab": {
          "base_uri": "https://localhost:8080/",
          "height": 300
        },
        "id": "91c-1PvwlO6G",
        "outputId": "6e6d2e0c-d81c-49b8-eafc-8c1628d440a5"
      },
      "execution_count": 6,
      "outputs": [
        {
          "output_type": "execute_result",
          "data": {
            "text/plain": [
              "         CustomerId   CreditScore           Age        Tenure        Balance  \\\n",
              "count  1.000000e+04  10000.000000  10000.000000  10000.000000   10000.000000   \n",
              "mean   1.569094e+07    650.528800     38.921800      5.012800   76485.889288   \n",
              "std    7.193619e+04     96.653299     10.487806      2.892174   62397.405202   \n",
              "min    1.556570e+07    350.000000     18.000000      0.000000       0.000000   \n",
              "25%    1.562853e+07    584.000000     32.000000      3.000000       0.000000   \n",
              "50%    1.569074e+07    652.000000     37.000000      5.000000   97198.540000   \n",
              "75%    1.575323e+07    718.000000     44.000000      7.000000  127644.240000   \n",
              "max    1.581569e+07    850.000000     92.000000     10.000000  250898.090000   \n",
              "\n",
              "       Num Of Products  Has Credit Card  Is Active Member  Estimated Salary  \\\n",
              "count     10000.000000      10000.00000      10000.000000      10000.000000   \n",
              "mean          1.530200          0.70550          0.515100     100090.239881   \n",
              "std           0.581654          0.45584          0.499797      57510.492818   \n",
              "min           1.000000          0.00000          0.000000         11.580000   \n",
              "25%           1.000000          0.00000          0.000000      51002.110000   \n",
              "50%           1.000000          1.00000          1.000000     100193.915000   \n",
              "75%           2.000000          1.00000          1.000000     149388.247500   \n",
              "max           4.000000          1.00000          1.000000     199992.480000   \n",
              "\n",
              "              Churn  \n",
              "count  10000.000000  \n",
              "mean       0.203700  \n",
              "std        0.402769  \n",
              "min        0.000000  \n",
              "25%        0.000000  \n",
              "50%        0.000000  \n",
              "75%        0.000000  \n",
              "max        1.000000  "
            ],
            "text/html": [
              "\n",
              "  <div id=\"df-ba66342f-d0ae-4e54-9605-c67d70f0868f\">\n",
              "    <div class=\"colab-df-container\">\n",
              "      <div>\n",
              "<style scoped>\n",
              "    .dataframe tbody tr th:only-of-type {\n",
              "        vertical-align: middle;\n",
              "    }\n",
              "\n",
              "    .dataframe tbody tr th {\n",
              "        vertical-align: top;\n",
              "    }\n",
              "\n",
              "    .dataframe thead th {\n",
              "        text-align: right;\n",
              "    }\n",
              "</style>\n",
              "<table border=\"1\" class=\"dataframe\">\n",
              "  <thead>\n",
              "    <tr style=\"text-align: right;\">\n",
              "      <th></th>\n",
              "      <th>CustomerId</th>\n",
              "      <th>CreditScore</th>\n",
              "      <th>Age</th>\n",
              "      <th>Tenure</th>\n",
              "      <th>Balance</th>\n",
              "      <th>Num Of Products</th>\n",
              "      <th>Has Credit Card</th>\n",
              "      <th>Is Active Member</th>\n",
              "      <th>Estimated Salary</th>\n",
              "      <th>Churn</th>\n",
              "    </tr>\n",
              "  </thead>\n",
              "  <tbody>\n",
              "    <tr>\n",
              "      <th>count</th>\n",
              "      <td>1.000000e+04</td>\n",
              "      <td>10000.000000</td>\n",
              "      <td>10000.000000</td>\n",
              "      <td>10000.000000</td>\n",
              "      <td>10000.000000</td>\n",
              "      <td>10000.000000</td>\n",
              "      <td>10000.00000</td>\n",
              "      <td>10000.000000</td>\n",
              "      <td>10000.000000</td>\n",
              "      <td>10000.000000</td>\n",
              "    </tr>\n",
              "    <tr>\n",
              "      <th>mean</th>\n",
              "      <td>1.569094e+07</td>\n",
              "      <td>650.528800</td>\n",
              "      <td>38.921800</td>\n",
              "      <td>5.012800</td>\n",
              "      <td>76485.889288</td>\n",
              "      <td>1.530200</td>\n",
              "      <td>0.70550</td>\n",
              "      <td>0.515100</td>\n",
              "      <td>100090.239881</td>\n",
              "      <td>0.203700</td>\n",
              "    </tr>\n",
              "    <tr>\n",
              "      <th>std</th>\n",
              "      <td>7.193619e+04</td>\n",
              "      <td>96.653299</td>\n",
              "      <td>10.487806</td>\n",
              "      <td>2.892174</td>\n",
              "      <td>62397.405202</td>\n",
              "      <td>0.581654</td>\n",
              "      <td>0.45584</td>\n",
              "      <td>0.499797</td>\n",
              "      <td>57510.492818</td>\n",
              "      <td>0.402769</td>\n",
              "    </tr>\n",
              "    <tr>\n",
              "      <th>min</th>\n",
              "      <td>1.556570e+07</td>\n",
              "      <td>350.000000</td>\n",
              "      <td>18.000000</td>\n",
              "      <td>0.000000</td>\n",
              "      <td>0.000000</td>\n",
              "      <td>1.000000</td>\n",
              "      <td>0.00000</td>\n",
              "      <td>0.000000</td>\n",
              "      <td>11.580000</td>\n",
              "      <td>0.000000</td>\n",
              "    </tr>\n",
              "    <tr>\n",
              "      <th>25%</th>\n",
              "      <td>1.562853e+07</td>\n",
              "      <td>584.000000</td>\n",
              "      <td>32.000000</td>\n",
              "      <td>3.000000</td>\n",
              "      <td>0.000000</td>\n",
              "      <td>1.000000</td>\n",
              "      <td>0.00000</td>\n",
              "      <td>0.000000</td>\n",
              "      <td>51002.110000</td>\n",
              "      <td>0.000000</td>\n",
              "    </tr>\n",
              "    <tr>\n",
              "      <th>50%</th>\n",
              "      <td>1.569074e+07</td>\n",
              "      <td>652.000000</td>\n",
              "      <td>37.000000</td>\n",
              "      <td>5.000000</td>\n",
              "      <td>97198.540000</td>\n",
              "      <td>1.000000</td>\n",
              "      <td>1.00000</td>\n",
              "      <td>1.000000</td>\n",
              "      <td>100193.915000</td>\n",
              "      <td>0.000000</td>\n",
              "    </tr>\n",
              "    <tr>\n",
              "      <th>75%</th>\n",
              "      <td>1.575323e+07</td>\n",
              "      <td>718.000000</td>\n",
              "      <td>44.000000</td>\n",
              "      <td>7.000000</td>\n",
              "      <td>127644.240000</td>\n",
              "      <td>2.000000</td>\n",
              "      <td>1.00000</td>\n",
              "      <td>1.000000</td>\n",
              "      <td>149388.247500</td>\n",
              "      <td>0.000000</td>\n",
              "    </tr>\n",
              "    <tr>\n",
              "      <th>max</th>\n",
              "      <td>1.581569e+07</td>\n",
              "      <td>850.000000</td>\n",
              "      <td>92.000000</td>\n",
              "      <td>10.000000</td>\n",
              "      <td>250898.090000</td>\n",
              "      <td>4.000000</td>\n",
              "      <td>1.00000</td>\n",
              "      <td>1.000000</td>\n",
              "      <td>199992.480000</td>\n",
              "      <td>1.000000</td>\n",
              "    </tr>\n",
              "  </tbody>\n",
              "</table>\n",
              "</div>\n",
              "      <button class=\"colab-df-convert\" onclick=\"convertToInteractive('df-ba66342f-d0ae-4e54-9605-c67d70f0868f')\"\n",
              "              title=\"Convert this dataframe to an interactive table.\"\n",
              "              style=\"display:none;\">\n",
              "        \n",
              "  <svg xmlns=\"http://www.w3.org/2000/svg\" height=\"24px\"viewBox=\"0 0 24 24\"\n",
              "       width=\"24px\">\n",
              "    <path d=\"M0 0h24v24H0V0z\" fill=\"none\"/>\n",
              "    <path d=\"M18.56 5.44l.94 2.06.94-2.06 2.06-.94-2.06-.94-.94-2.06-.94 2.06-2.06.94zm-11 1L8.5 8.5l.94-2.06 2.06-.94-2.06-.94L8.5 2.5l-.94 2.06-2.06.94zm10 10l.94 2.06.94-2.06 2.06-.94-2.06-.94-.94-2.06-.94 2.06-2.06.94z\"/><path d=\"M17.41 7.96l-1.37-1.37c-.4-.4-.92-.59-1.43-.59-.52 0-1.04.2-1.43.59L10.3 9.45l-7.72 7.72c-.78.78-.78 2.05 0 2.83L4 21.41c.39.39.9.59 1.41.59.51 0 1.02-.2 1.41-.59l7.78-7.78 2.81-2.81c.8-.78.8-2.07 0-2.86zM5.41 20L4 18.59l7.72-7.72 1.47 1.35L5.41 20z\"/>\n",
              "  </svg>\n",
              "      </button>\n",
              "      \n",
              "  <style>\n",
              "    .colab-df-container {\n",
              "      display:flex;\n",
              "      flex-wrap:wrap;\n",
              "      gap: 12px;\n",
              "    }\n",
              "\n",
              "    .colab-df-convert {\n",
              "      background-color: #E8F0FE;\n",
              "      border: none;\n",
              "      border-radius: 50%;\n",
              "      cursor: pointer;\n",
              "      display: none;\n",
              "      fill: #1967D2;\n",
              "      height: 32px;\n",
              "      padding: 0 0 0 0;\n",
              "      width: 32px;\n",
              "    }\n",
              "\n",
              "    .colab-df-convert:hover {\n",
              "      background-color: #E2EBFA;\n",
              "      box-shadow: 0px 1px 2px rgba(60, 64, 67, 0.3), 0px 1px 3px 1px rgba(60, 64, 67, 0.15);\n",
              "      fill: #174EA6;\n",
              "    }\n",
              "\n",
              "    [theme=dark] .colab-df-convert {\n",
              "      background-color: #3B4455;\n",
              "      fill: #D2E3FC;\n",
              "    }\n",
              "\n",
              "    [theme=dark] .colab-df-convert:hover {\n",
              "      background-color: #434B5C;\n",
              "      box-shadow: 0px 1px 3px 1px rgba(0, 0, 0, 0.15);\n",
              "      filter: drop-shadow(0px 1px 2px rgba(0, 0, 0, 0.3));\n",
              "      fill: #FFFFFF;\n",
              "    }\n",
              "  </style>\n",
              "\n",
              "      <script>\n",
              "        const buttonEl =\n",
              "          document.querySelector('#df-ba66342f-d0ae-4e54-9605-c67d70f0868f button.colab-df-convert');\n",
              "        buttonEl.style.display =\n",
              "          google.colab.kernel.accessAllowed ? 'block' : 'none';\n",
              "\n",
              "        async function convertToInteractive(key) {\n",
              "          const element = document.querySelector('#df-ba66342f-d0ae-4e54-9605-c67d70f0868f');\n",
              "          const dataTable =\n",
              "            await google.colab.kernel.invokeFunction('convertToInteractive',\n",
              "                                                     [key], {});\n",
              "          if (!dataTable) return;\n",
              "\n",
              "          const docLinkHtml = 'Like what you see? Visit the ' +\n",
              "            '<a target=\"_blank\" href=https://colab.research.google.com/notebooks/data_table.ipynb>data table notebook</a>'\n",
              "            + ' to learn more about interactive tables.';\n",
              "          element.innerHTML = '';\n",
              "          dataTable['output_type'] = 'display_data';\n",
              "          await google.colab.output.renderOutput(dataTable, element);\n",
              "          const docLink = document.createElement('div');\n",
              "          docLink.innerHTML = docLinkHtml;\n",
              "          element.appendChild(docLink);\n",
              "        }\n",
              "      </script>\n",
              "    </div>\n",
              "  </div>\n",
              "  "
            ]
          },
          "metadata": {},
          "execution_count": 6
        }
      ]
    },
    {
      "cell_type": "code",
      "source": [
        "df.duplicated('CustomerId').sum()"
      ],
      "metadata": {
        "colab": {
          "base_uri": "https://localhost:8080/"
        },
        "id": "qNhUKJrPlO3J",
        "outputId": "46341bf7-3fad-427a-a296-6c9683f69067"
      },
      "execution_count": 7,
      "outputs": [
        {
          "output_type": "execute_result",
          "data": {
            "text/plain": [
              "0"
            ]
          },
          "metadata": {},
          "execution_count": 7
        }
      ]
    },
    {
      "cell_type": "code",
      "source": [
        "df = df.set_index('CustomerId')"
      ],
      "metadata": {
        "id": "lkFz789alO0K"
      },
      "execution_count": 8,
      "outputs": []
    },
    {
      "cell_type": "code",
      "source": [
        "df.info()"
      ],
      "metadata": {
        "colab": {
          "base_uri": "https://localhost:8080/"
        },
        "id": "6z3_IH_9lOxH",
        "outputId": "8686fbfe-f046-418a-c341-35c389e1ab14"
      },
      "execution_count": 9,
      "outputs": [
        {
          "output_type": "stream",
          "name": "stdout",
          "text": [
            "<class 'pandas.core.frame.DataFrame'>\n",
            "Int64Index: 10000 entries, 15634602 to 15628319\n",
            "Data columns (total 12 columns):\n",
            " #   Column            Non-Null Count  Dtype  \n",
            "---  ------            --------------  -----  \n",
            " 0   Surname           10000 non-null  object \n",
            " 1   CreditScore       10000 non-null  int64  \n",
            " 2   Geography         10000 non-null  object \n",
            " 3   Gender            10000 non-null  object \n",
            " 4   Age               10000 non-null  int64  \n",
            " 5   Tenure            10000 non-null  int64  \n",
            " 6   Balance           10000 non-null  float64\n",
            " 7   Num Of Products   10000 non-null  int64  \n",
            " 8   Has Credit Card   10000 non-null  int64  \n",
            " 9   Is Active Member  10000 non-null  int64  \n",
            " 10  Estimated Salary  10000 non-null  float64\n",
            " 11  Churn             10000 non-null  int64  \n",
            "dtypes: float64(2), int64(7), object(3)\n",
            "memory usage: 1015.6+ KB\n"
          ]
        }
      ]
    },
    {
      "cell_type": "markdown",
      "source": [
        "# **Encoding**"
      ],
      "metadata": {
        "id": "-fHMam2QmqM3"
      }
    },
    {
      "cell_type": "code",
      "source": [
        "df['Geography'].value_counts()"
      ],
      "metadata": {
        "colab": {
          "base_uri": "https://localhost:8080/"
        },
        "id": "w1ldUGFemnNf",
        "outputId": "ec0f594e-fd3f-4ff7-aa70-e7c314c3fb36"
      },
      "execution_count": 10,
      "outputs": [
        {
          "output_type": "execute_result",
          "data": {
            "text/plain": [
              "France     5014\n",
              "Germany    2509\n",
              "Spain      2477\n",
              "Name: Geography, dtype: int64"
            ]
          },
          "metadata": {},
          "execution_count": 10
        }
      ]
    },
    {
      "cell_type": "code",
      "source": [
        "df.replace({'Geography' : {'France' : 2, 'Germany' : 1, 'Spain' : 0}}, inplace = True)"
      ],
      "metadata": {
        "id": "iIcE6LonlOse"
      },
      "execution_count": 11,
      "outputs": []
    },
    {
      "cell_type": "code",
      "source": [
        "df['Gender'].value_counts()"
      ],
      "metadata": {
        "colab": {
          "base_uri": "https://localhost:8080/"
        },
        "id": "lf9ZrUsUlOlF",
        "outputId": "3708d7e7-f946-40ff-bff1-9ceeff2c6e1d"
      },
      "execution_count": 12,
      "outputs": [
        {
          "output_type": "execute_result",
          "data": {
            "text/plain": [
              "Male      5457\n",
              "Female    4543\n",
              "Name: Gender, dtype: int64"
            ]
          },
          "metadata": {},
          "execution_count": 12
        }
      ]
    },
    {
      "cell_type": "code",
      "source": [
        "df.replace({'Gender' : {'Male' : 0, 'Female' : 1,}}, inplace = True)"
      ],
      "metadata": {
        "id": "TZ4bjqeknfFv"
      },
      "execution_count": 13,
      "outputs": []
    },
    {
      "cell_type": "code",
      "source": [
        "df['Num Of Products'].value_counts()"
      ],
      "metadata": {
        "colab": {
          "base_uri": "https://localhost:8080/"
        },
        "id": "1BpljJVpnfDI",
        "outputId": "8e2d9714-48af-4597-e148-08ce98d0c7d1"
      },
      "execution_count": 14,
      "outputs": [
        {
          "output_type": "execute_result",
          "data": {
            "text/plain": [
              "1    5084\n",
              "2    4590\n",
              "3     266\n",
              "4      60\n",
              "Name: Num Of Products, dtype: int64"
            ]
          },
          "metadata": {},
          "execution_count": 14
        }
      ]
    },
    {
      "cell_type": "code",
      "source": [
        "df.replace({'Num Of Products' : {1 : 0, 2 : 1, 3 : 1, 4 : 1}}, inplace = True)"
      ],
      "metadata": {
        "id": "nsr8XxODne-J"
      },
      "execution_count": 15,
      "outputs": []
    },
    {
      "cell_type": "code",
      "source": [
        "df['Has Credit Card'].value_counts()"
      ],
      "metadata": {
        "colab": {
          "base_uri": "https://localhost:8080/"
        },
        "id": "Cor40oKlne7N",
        "outputId": "4f8e8b9f-42fd-4c70-c3c5-0a921723c664"
      },
      "execution_count": 16,
      "outputs": [
        {
          "output_type": "execute_result",
          "data": {
            "text/plain": [
              "1    7055\n",
              "0    2945\n",
              "Name: Has Credit Card, dtype: int64"
            ]
          },
          "metadata": {},
          "execution_count": 16
        }
      ]
    },
    {
      "cell_type": "code",
      "source": [
        "df['Is Active Member'].value_counts()"
      ],
      "metadata": {
        "colab": {
          "base_uri": "https://localhost:8080/"
        },
        "id": "VLHftTyUne3y",
        "outputId": "49b2fe63-da3b-4dab-eb89-620754612af7"
      },
      "execution_count": 17,
      "outputs": [
        {
          "output_type": "execute_result",
          "data": {
            "text/plain": [
              "1    5151\n",
              "0    4849\n",
              "Name: Is Active Member, dtype: int64"
            ]
          },
          "metadata": {},
          "execution_count": 17
        }
      ]
    },
    {
      "cell_type": "code",
      "source": [
        "df.loc[(df['Balance']==0),'Churn'].value_counts()"
      ],
      "metadata": {
        "colab": {
          "base_uri": "https://localhost:8080/"
        },
        "id": "Xr8dnAVbokWA",
        "outputId": "5de90c85-135b-44d0-9509-2bb23718fc58"
      },
      "execution_count": 18,
      "outputs": [
        {
          "output_type": "execute_result",
          "data": {
            "text/plain": [
              "0    3117\n",
              "1     500\n",
              "Name: Churn, dtype: int64"
            ]
          },
          "metadata": {},
          "execution_count": 18
        }
      ]
    },
    {
      "cell_type": "code",
      "source": [
        "df['Zero Balance'] = np.where(df['Balance']>0, 1, 0)"
      ],
      "metadata": {
        "id": "zNq_u2LQokRD"
      },
      "execution_count": 19,
      "outputs": []
    },
    {
      "cell_type": "code",
      "source": [
        "df['Zero Balance'].hist()"
      ],
      "metadata": {
        "colab": {
          "base_uri": "https://localhost:8080/",
          "height": 282
        },
        "id": "44kokCKSokLZ",
        "outputId": "0006c1be-dad6-49b0-826d-db139397cf2c"
      },
      "execution_count": 20,
      "outputs": [
        {
          "output_type": "execute_result",
          "data": {
            "text/plain": [
              "<matplotlib.axes._subplots.AxesSubplot at 0x7f63ee6f4190>"
            ]
          },
          "metadata": {},
          "execution_count": 20
        },
        {
          "output_type": "display_data",
          "data": {
            "text/plain": [
              "<Figure size 432x288 with 1 Axes>"
            ],
            "image/png": "[encoded data removed]"
          },
          "metadata": {
            "needs_background": "light"
          }
        }
      ]
    },
    {
      "cell_type": "code",
      "source": [
        "df.groupby(['Churn','Geography']).count()"
      ],
      "metadata": {
        "colab": {
          "base_uri": "https://localhost:8080/",
          "height": 269
        },
        "id": "PCiGw783okGi",
        "outputId": "20f45902-a03d-435a-db20-591287c379a6"
      },
      "execution_count": 21,
      "outputs": [
        {
          "output_type": "execute_result",
          "data": {
            "text/plain": [
              "                 Surname  CreditScore  Gender   Age  Tenure  Balance  \\\n",
              "Churn Geography                                                        \n",
              "0     0             2064         2064    2064  2064    2064     2064   \n",
              "      1             1695         1695    1695  1695    1695     1695   \n",
              "      2             4204         4204    4204  4204    4204     4204   \n",
              "1     0              413          413     413   413     413      413   \n",
              "      1              814          814     814   814     814      814   \n",
              "      2              810          810     810   810     810      810   \n",
              "\n",
              "                 Num Of Products  Has Credit Card  Is Active Member  \\\n",
              "Churn Geography                                                       \n",
              "0     0                     2064             2064              2064   \n",
              "      1                     1695             1695              1695   \n",
              "      2                     4204             4204              4204   \n",
              "1     0                      413              413               413   \n",
              "      1                      814              814               814   \n",
              "      2                      810              810               810   \n",
              "\n",
              "                 Estimated Salary  Zero Balance  \n",
              "Churn Geography                                  \n",
              "0     0                      2064          2064  \n",
              "      1                      1695          1695  \n",
              "      2                      4204          4204  \n",
              "1     0                       413           413  \n",
              "      1                       814           814  \n",
              "      2                       810           810  "
            ],
            "text/html": [
              "\n",
              "  <div id=\"df-96cabe03-33c2-4022-927d-7e962d16dc5d\">\n",
              "    <div class=\"colab-df-container\">\n",
              "      <div>\n",
              "<style scoped>\n",
              "    .dataframe tbody tr th:only-of-type {\n",
              "        vertical-align: middle;\n",
              "    }\n",
              "\n",
              "    .dataframe tbody tr th {\n",
              "        vertical-align: top;\n",
              "    }\n",
              "\n",
              "    .dataframe thead th {\n",
              "        text-align: right;\n",
              "    }\n",
              "</style>\n",
              "<table border=\"1\" class=\"dataframe\">\n",
              "  <thead>\n",
              "    <tr style=\"text-align: right;\">\n",
              "      <th></th>\n",
              "      <th></th>\n",
              "      <th>Surname</th>\n",
              "      <th>CreditScore</th>\n",
              "      <th>Gender</th>\n",
              "      <th>Age</th>\n",
              "      <th>Tenure</th>\n",
              "      <th>Balance</th>\n",
              "      <th>Num Of Products</th>\n",
              "      <th>Has Credit Card</th>\n",
              "      <th>Is Active Member</th>\n",
              "      <th>Estimated Salary</th>\n",
              "      <th>Zero Balance</th>\n",
              "    </tr>\n",
              "    <tr>\n",
              "      <th>Churn</th>\n",
              "      <th>Geography</th>\n",
              "      <th></th>\n",
              "      <th></th>\n",
              "      <th></th>\n",
              "      <th></th>\n",
              "      <th></th>\n",
              "      <th></th>\n",
              "      <th></th>\n",
              "      <th></th>\n",
              "      <th></th>\n",
              "      <th></th>\n",
              "      <th></th>\n",
              "    </tr>\n",
              "  </thead>\n",
              "  <tbody>\n",
              "    <tr>\n",
              "      <th rowspan=\"3\" valign=\"top\">0</th>\n",
              "      <th>0</th>\n",
              "      <td>2064</td>\n",
              "      <td>2064</td>\n",
              "      <td>2064</td>\n",
              "      <td>2064</td>\n",
              "      <td>2064</td>\n",
              "      <td>2064</td>\n",
              "      <td>2064</td>\n",
              "      <td>2064</td>\n",
              "      <td>2064</td>\n",
              "      <td>2064</td>\n",
              "      <td>2064</td>\n",
              "    </tr>\n",
              "    <tr>\n",
              "      <th>1</th>\n",
              "      <td>1695</td>\n",
              "      <td>1695</td>\n",
              "      <td>1695</td>\n",
              "      <td>1695</td>\n",
              "      <td>1695</td>\n",
              "      <td>1695</td>\n",
              "      <td>1695</td>\n",
              "      <td>1695</td>\n",
              "      <td>1695</td>\n",
              "      <td>1695</td>\n",
              "      <td>1695</td>\n",
              "    </tr>\n",
              "    <tr>\n",
              "      <th>2</th>\n",
              "      <td>4204</td>\n",
              "      <td>4204</td>\n",
              "      <td>4204</td>\n",
              "      <td>4204</td>\n",
              "      <td>4204</td>\n",
              "      <td>4204</td>\n",
              "      <td>4204</td>\n",
              "      <td>4204</td>\n",
              "      <td>4204</td>\n",
              "      <td>4204</td>\n",
              "      <td>4204</td>\n",
              "    </tr>\n",
              "    <tr>\n",
              "      <th rowspan=\"3\" valign=\"top\">1</th>\n",
              "      <th>0</th>\n",
              "      <td>413</td>\n",
              "      <td>413</td>\n",
              "      <td>413</td>\n",
              "      <td>413</td>\n",
              "      <td>413</td>\n",
              "      <td>413</td>\n",
              "      <td>413</td>\n",
              "      <td>413</td>\n",
              "      <td>413</td>\n",
              "      <td>413</td>\n",
              "      <td>413</td>\n",
              "    </tr>\n",
              "    <tr>\n",
              "      <th>1</th>\n",
              "      <td>814</td>\n",
              "      <td>814</td>\n",
              "      <td>814</td>\n",
              "      <td>814</td>\n",
              "      <td>814</td>\n",
              "      <td>814</td>\n",
              "      <td>814</td>\n",
              "      <td>814</td>\n",
              "      <td>814</td>\n",
              "      <td>814</td>\n",
              "      <td>814</td>\n",
              "    </tr>\n",
              "    <tr>\n",
              "      <th>2</th>\n",
              "      <td>810</td>\n",
              "      <td>810</td>\n",
              "      <td>810</td>\n",
              "      <td>810</td>\n",
              "      <td>810</td>\n",
              "      <td>810</td>\n",
              "      <td>810</td>\n",
              "      <td>810</td>\n",
              "      <td>810</td>\n",
              "      <td>810</td>\n",
              "      <td>810</td>\n",
              "    </tr>\n",
              "  </tbody>\n",
              "</table>\n",
              "</div>\n",
              "      <button class=\"colab-df-convert\" onclick=\"convertToInteractive('df-96cabe03-33c2-4022-927d-7e962d16dc5d')\"\n",
              "              title=\"Convert this dataframe to an interactive table.\"\n",
              "              style=\"display:none;\">\n",
              "        \n",
              "  <svg xmlns=\"http://www.w3.org/2000/svg\" height=\"24px\"viewBox=\"0 0 24 24\"\n",
              "       width=\"24px\">\n",
              "    <path d=\"M0 0h24v24H0V0z\" fill=\"none\"/>\n",
              "    <path d=\"M18.56 5.44l.94 2.06.94-2.06 2.06-.94-2.06-.94-.94-2.06-.94 2.06-2.06.94zm-11 1L8.5 8.5l.94-2.06 2.06-.94-2.06-.94L8.5 2.5l-.94 2.06-2.06.94zm10 10l.94 2.06.94-2.06 2.06-.94-2.06-.94-.94-2.06-.94 2.06-2.06.94z\"/><path d=\"M17.41 7.96l-1.37-1.37c-.4-.4-.92-.59-1.43-.59-.52 0-1.04.2-1.43.59L10.3 9.45l-7.72 7.72c-.78.78-.78 2.05 0 2.83L4 21.41c.39.39.9.59 1.41.59.51 0 1.02-.2 1.41-.59l7.78-7.78 2.81-2.81c.8-.78.8-2.07 0-2.86zM5.41 20L4 18.59l7.72-7.72 1.47 1.35L5.41 20z\"/>\n",
              "  </svg>\n",
              "      </button>\n",
              "      \n",
              "  <style>\n",
              "    .colab-df-container {\n",
              "      display:flex;\n",
              "      flex-wrap:wrap;\n",
              "      gap: 12px;\n",
              "    }\n",
              "\n",
              "    .colab-df-convert {\n",
              "      background-color: #E8F0FE;\n",
              "      border: none;\n",
              "      border-radius: 50%;\n",
              "      cursor: pointer;\n",
              "      display: none;\n",
              "      fill: #1967D2;\n",
              "      height: 32px;\n",
              "      padding: 0 0 0 0;\n",
              "      width: 32px;\n",
              "    }\n",
              "\n",
              "    .colab-df-convert:hover {\n",
              "      background-color: #E2EBFA;\n",
              "      box-shadow: 0px 1px 2px rgba(60, 64, 67, 0.3), 0px 1px 3px 1px rgba(60, 64, 67, 0.15);\n",
              "      fill: #174EA6;\n",
              "    }\n",
              "\n",
              "    [theme=dark] .colab-df-convert {\n",
              "      background-color: #3B4455;\n",
              "      fill: #D2E3FC;\n",
              "    }\n",
              "\n",
              "    [theme=dark] .colab-df-convert:hover {\n",
              "      background-color: #434B5C;\n",
              "      box-shadow: 0px 1px 3px 1px rgba(0, 0, 0, 0.15);\n",
              "      filter: drop-shadow(0px 1px 2px rgba(0, 0, 0, 0.3));\n",
              "      fill: #FFFFFF;\n",
              "    }\n",
              "  </style>\n",
              "\n",
              "      <script>\n",
              "        const buttonEl =\n",
              "          document.querySelector('#df-96cabe03-33c2-4022-927d-7e962d16dc5d button.colab-df-convert');\n",
              "        buttonEl.style.display =\n",
              "          google.colab.kernel.accessAllowed ? 'block' : 'none';\n",
              "\n",
              "        async function convertToInteractive(key) {\n",
              "          const element = document.querySelector('#df-96cabe03-33c2-4022-927d-7e962d16dc5d');\n",
              "          const dataTable =\n",
              "            await google.colab.kernel.invokeFunction('convertToInteractive',\n",
              "                                                     [key], {});\n",
              "          if (!dataTable) return;\n",
              "\n",
              "          const docLinkHtml = 'Like what you see? Visit the ' +\n",
              "            '<a target=\"_blank\" href=https://colab.research.google.com/notebooks/data_table.ipynb>data table notebook</a>'\n",
              "            + ' to learn more about interactive tables.';\n",
              "          element.innerHTML = '';\n",
              "          dataTable['output_type'] = 'display_data';\n",
              "          await google.colab.output.renderOutput(dataTable, element);\n",
              "          const docLink = document.createElement('div');\n",
              "          docLink.innerHTML = docLinkHtml;\n",
              "          element.appendChild(docLink);\n",
              "        }\n",
              "      </script>\n",
              "    </div>\n",
              "  </div>\n",
              "  "
            ]
          },
          "metadata": {},
          "execution_count": 21
        }
      ]
    },
    {
      "cell_type": "markdown",
      "source": [
        "# **Define Label and Features**"
      ],
      "metadata": {
        "id": "f1_cq5Od4czy"
      }
    },
    {
      "cell_type": "code",
      "source": [
        "df.columns"
      ],
      "metadata": {
        "id": "HMITtCO9okA3",
        "colab": {
          "base_uri": "https://localhost:8080/"
        },
        "outputId": "f4dd7cc2-cf91-41e6-b4f9-93dce827604c"
      },
      "execution_count": 22,
      "outputs": [
        {
          "output_type": "execute_result",
          "data": {
            "text/plain": [
              "Index(['Surname', 'CreditScore', 'Geography', 'Gender', 'Age', 'Tenure',\n",
              "       'Balance', 'Num Of Products', 'Has Credit Card', 'Is Active Member',\n",
              "       'Estimated Salary', 'Churn', 'Zero Balance'],\n",
              "      dtype='object')"
            ]
          },
          "metadata": {},
          "execution_count": 22
        }
      ]
    },
    {
      "cell_type": "code",
      "source": [
        "X = df.drop(['Surname', 'Churn'], axis = 1)"
      ],
      "metadata": {
        "id": "3vi0xQ52oj1I"
      },
      "execution_count": 23,
      "outputs": []
    },
    {
      "cell_type": "code",
      "source": [
        "Y = df['Churn']"
      ],
      "metadata": {
        "id": "CM1D9mr-ojrk"
      },
      "execution_count": 24,
      "outputs": []
    },
    {
      "cell_type": "code",
      "source": [
        "X.shape, Y.shape"
      ],
      "metadata": {
        "id": "INnrl4NWojmx",
        "colab": {
          "base_uri": "https://localhost:8080/"
        },
        "outputId": "66733227-2041-4ac5-bebf-a04fc146b1b3"
      },
      "execution_count": 25,
      "outputs": [
        {
          "output_type": "execute_result",
          "data": {
            "text/plain": [
              "((10000, 11), (10000,))"
            ]
          },
          "metadata": {},
          "execution_count": 25
        }
      ]
    },
    {
      "cell_type": "markdown",
      "source": [
        "# **Handling Imbalance Data**"
      ],
      "metadata": {
        "id": "Ak9Yshoy5-lN"
      }
    },
    {
      "cell_type": "code",
      "source": [
        "df['Churn'].value_counts()"
      ],
      "metadata": {
        "id": "fqc0HfFBojid",
        "colab": {
          "base_uri": "https://localhost:8080/"
        },
        "outputId": "d630767e-5e64-4933-8f39-3b8338b868de"
      },
      "execution_count": 27,
      "outputs": [
        {
          "output_type": "execute_result",
          "data": {
            "text/plain": [
              "0    7963\n",
              "1    2037\n",
              "Name: Churn, dtype: int64"
            ]
          },
          "metadata": {},
          "execution_count": 27
        }
      ]
    },
    {
      "cell_type": "code",
      "source": [
        "sns.countplot(x = 'Churn', data = df)"
      ],
      "metadata": {
        "id": "qBAqUkMMojcK",
        "colab": {
          "base_uri": "https://localhost:8080/",
          "height": 296
        },
        "outputId": "c92d9627-2baf-431f-aa8f-f3c8301fcb48"
      },
      "execution_count": 28,
      "outputs": [
        {
          "output_type": "execute_result",
          "data": {
            "text/plain": [
              "<matplotlib.axes._subplots.AxesSubplot at 0x7f63ec0f7f90>"
            ]
          },
          "metadata": {},
          "execution_count": 28
        },
        {
          "output_type": "display_data",
          "data": {
            "text/plain": [
              "<Figure size 432x288 with 1 Axes>"
            ],
            "image/png": "[encoded data removed]"
          },
          "metadata": {
            "needs_background": "light"
          }
        }
      ]
    },
    {
      "cell_type": "code",
      "source": [
        "X.shape , Y.shape"
      ],
      "metadata": {
        "id": "DVQcpdSsnetG",
        "colab": {
          "base_uri": "https://localhost:8080/"
        },
        "outputId": "04f24349-195b-489b-8985-0dfd654f5be9"
      },
      "execution_count": 29,
      "outputs": [
        {
          "output_type": "execute_result",
          "data": {
            "text/plain": [
              "((10000, 11), (10000,))"
            ]
          },
          "metadata": {},
          "execution_count": 29
        }
      ]
    },
    {
      "cell_type": "markdown",
      "source": [
        "# **Random Under Sampling**"
      ],
      "metadata": {
        "id": "dxV_bBbu6qz4"
      }
    },
    {
      "cell_type": "code",
      "source": [
        "from imblearn.under_sampling import RandomUnderSampler"
      ],
      "metadata": {
        "id": "NURNy8Il5e74"
      },
      "execution_count": 30,
      "outputs": []
    },
    {
      "cell_type": "code",
      "source": [
        "rus = RandomUnderSampler(random_state = 2529)"
      ],
      "metadata": {
        "id": "h9hEkuZF5e4j"
      },
      "execution_count": 31,
      "outputs": []
    },
    {
      "cell_type": "code",
      "source": [
        "X_rus, Y_rus = rus.fit_resample(X, Y)"
      ],
      "metadata": {
        "id": "uIkmQcG35e1H"
      },
      "execution_count": 32,
      "outputs": []
    },
    {
      "cell_type": "code",
      "source": [
        "X_rus.shape, Y_rus.shape, X.shape, Y.shape"
      ],
      "metadata": {
        "colab": {
          "base_uri": "https://localhost:8080/"
        },
        "id": "MR6OhQnW5eyV",
        "outputId": "22219a7d-3809-4025-9c8c-38e9106efa0b"
      },
      "execution_count": 33,
      "outputs": [
        {
          "output_type": "execute_result",
          "data": {
            "text/plain": [
              "((4074, 11), (4074,), (10000, 11), (10000,))"
            ]
          },
          "metadata": {},
          "execution_count": 33
        }
      ]
    },
    {
      "cell_type": "code",
      "source": [
        "Y.value_counts()"
      ],
      "metadata": {
        "colab": {
          "base_uri": "https://localhost:8080/"
        },
        "id": "fvXjBON85eui",
        "outputId": "c32586b9-aecb-46b9-df22-54433d94d946"
      },
      "execution_count": 34,
      "outputs": [
        {
          "output_type": "execute_result",
          "data": {
            "text/plain": [
              "0    7963\n",
              "1    2037\n",
              "Name: Churn, dtype: int64"
            ]
          },
          "metadata": {},
          "execution_count": 34
        }
      ]
    },
    {
      "cell_type": "code",
      "source": [
        "Y.value_counts()"
      ],
      "metadata": {
        "colab": {
          "base_uri": "https://localhost:8080/"
        },
        "id": "B5c8zsHs5erP",
        "outputId": "b8570aad-e449-44c9-f6c3-7aa9e1f35b21"
      },
      "execution_count": 35,
      "outputs": [
        {
          "output_type": "execute_result",
          "data": {
            "text/plain": [
              "0    7963\n",
              "1    2037\n",
              "Name: Churn, dtype: int64"
            ]
          },
          "metadata": {},
          "execution_count": 35
        }
      ]
    },
    {
      "cell_type": "code",
      "source": [
        "Y_rus.value_counts()"
      ],
      "metadata": {
        "colab": {
          "base_uri": "https://localhost:8080/"
        },
        "id": "_XBV2AMy5en1",
        "outputId": "467f3023-353d-4aa8-ec1f-e67f568291dc"
      },
      "execution_count": 37,
      "outputs": [
        {
          "output_type": "execute_result",
          "data": {
            "text/plain": [
              "0    2037\n",
              "1    2037\n",
              "Name: Churn, dtype: int64"
            ]
          },
          "metadata": {},
          "execution_count": 37
        }
      ]
    },
    {
      "cell_type": "code",
      "source": [
        "Y_rus.plot(kind = 'hist')"
      ],
      "metadata": {
        "colab": {
          "base_uri": "https://localhost:8080/",
          "height": 282
        },
        "id": "AU_U0bIZ5ekE",
        "outputId": "bcc560c2-e2f5-482d-e4ca-719fafbd0313"
      },
      "execution_count": 38,
      "outputs": [
        {
          "output_type": "execute_result",
          "data": {
            "text/plain": [
              "<matplotlib.axes._subplots.AxesSubplot at 0x7f63ebf67410>"
            ]
          },
          "metadata": {},
          "execution_count": 38
        },
        {
          "output_type": "display_data",
          "data": {
            "text/plain": [
              "<Figure size 432x288 with 1 Axes>"
            ],
            "image/png": "[encoded data removed]"
          },
          "metadata": {
            "needs_background": "light"
          }
        }
      ]
    },
    {
      "cell_type": "markdown",
      "source": [
        "# **Random Over Sampling**"
      ],
      "metadata": {
        "id": "VHZPr0F99uZp"
      }
    },
    {
      "cell_type": "code",
      "source": [
        "from imblearn.over_sampling import RandomOverSampler"
      ],
      "metadata": {
        "id": "ZhUgEvmM5eg6"
      },
      "execution_count": 40,
      "outputs": []
    },
    {
      "cell_type": "code",
      "source": [
        "ros = RandomOverSampler(random_state = 2529)"
      ],
      "metadata": {
        "id": "BpYlEaHK9Eq6"
      },
      "execution_count": 44,
      "outputs": []
    },
    {
      "cell_type": "code",
      "source": [
        "X_ros, Y_ros = ros.fit_resample(X, Y)"
      ],
      "metadata": {
        "id": "D5reUPE_9Efa"
      },
      "execution_count": 45,
      "outputs": []
    },
    {
      "cell_type": "code",
      "source": [
        "X_ros.shape, Y_ros.shape, X.shape, Y.shape"
      ],
      "metadata": {
        "colab": {
          "base_uri": "https://localhost:8080/"
        },
        "id": "aeR46ULi9HMx",
        "outputId": "12955943-2250-4f1c-f444-ec1fac496ccb"
      },
      "execution_count": 46,
      "outputs": [
        {
          "output_type": "execute_result",
          "data": {
            "text/plain": [
              "((15926, 11), (15926,), (10000, 11), (10000,))"
            ]
          },
          "metadata": {},
          "execution_count": 46
        }
      ]
    },
    {
      "cell_type": "code",
      "source": [
        "Y.value_counts()"
      ],
      "metadata": {
        "colab": {
          "base_uri": "https://localhost:8080/"
        },
        "id": "H7jNVvJe9HH6",
        "outputId": "fecb3077-89b6-4589-83a5-0bbc6ddb355f"
      },
      "execution_count": 48,
      "outputs": [
        {
          "output_type": "execute_result",
          "data": {
            "text/plain": [
              "0    7963\n",
              "1    2037\n",
              "Name: Churn, dtype: int64"
            ]
          },
          "metadata": {},
          "execution_count": 48
        }
      ]
    },
    {
      "cell_type": "code",
      "source": [
        "Y_ros.value_counts()"
      ],
      "metadata": {
        "colab": {
          "base_uri": "https://localhost:8080/"
        },
        "id": "rudeY6bO9HDl",
        "outputId": "1de7cf7e-f52b-4e92-f8bb-2d93ff581eae"
      },
      "execution_count": 49,
      "outputs": [
        {
          "output_type": "execute_result",
          "data": {
            "text/plain": [
              "1    7963\n",
              "0    7963\n",
              "Name: Churn, dtype: int64"
            ]
          },
          "metadata": {},
          "execution_count": 49
        }
      ]
    },
    {
      "cell_type": "code",
      "source": [
        "Y_ros.plot(kind = 'hist')"
      ],
      "metadata": {
        "colab": {
          "base_uri": "https://localhost:8080/",
          "height": 282
        },
        "id": "uHbOLbrW9F8N",
        "outputId": "684c7958-4159-4fa8-e9d1-3e6099d7a258"
      },
      "execution_count": 50,
      "outputs": [
        {
          "output_type": "execute_result",
          "data": {
            "text/plain": [
              "<matplotlib.axes._subplots.AxesSubplot at 0x7f63ea165b90>"
            ]
          },
          "metadata": {},
          "execution_count": 50
        },
        {
          "output_type": "display_data",
          "data": {
            "text/plain": [
              "<Figure size 432x288 with 1 Axes>"
            ],
            "image/png": "[encoded data removed]"
          },
          "metadata": {
            "needs_background": "light"
          }
        }
      ]
    },
    {
      "cell_type": "markdown",
      "source": [
        "# **Train Test Split**"
      ],
      "metadata": {
        "id": "k6ptY1h8_rIN"
      }
    },
    {
      "cell_type": "code",
      "source": [
        "from sklearn.model_selection import train_test_split"
      ],
      "metadata": {
        "id": "KRaFiGGD9FYo"
      },
      "execution_count": 51,
      "outputs": []
    },
    {
      "cell_type": "markdown",
      "source": [
        "**Split Original Data**"
      ],
      "metadata": {
        "id": "ZR0PCj6P_5xf"
      }
    },
    {
      "cell_type": "code",
      "source": [
        "X_train, X_test, Y_train, Y_test = train_test_split(X, Y, test_size = 0.3, random_state = 2529)"
      ],
      "metadata": {
        "id": "J3QsQPC8_pQS"
      },
      "execution_count": 52,
      "outputs": []
    },
    {
      "cell_type": "markdown",
      "source": [
        "**Split Random Under Sample Data**"
      ],
      "metadata": {
        "id": "UH3RLPraAZpl"
      }
    },
    {
      "cell_type": "code",
      "source": [
        "X_train_rus, X_test_rus, Y_train_rus, Y_test_rus = train_test_split(X_rus, Y_rus, test_size = 0.3, random_state = 2529)"
      ],
      "metadata": {
        "id": "G3xSLtKXAiRg"
      },
      "execution_count": 53,
      "outputs": []
    },
    {
      "cell_type": "markdown",
      "source": [
        "**Split Random Over Sample Data**"
      ],
      "metadata": {
        "id": "fRQwwMyGAf6-"
      }
    },
    {
      "cell_type": "code",
      "source": [
        "X_train_ros, X_test_ros, Y_train_ros, Y_test_ros = train_test_split(X_ros, Y_ros, test_size = 0.3, random_state = 2529)"
      ],
      "metadata": {
        "id": "qKqlcT6__pNE"
      },
      "execution_count": 54,
      "outputs": []
    },
    {
      "cell_type": "markdown",
      "source": [
        "# **Standardize Features**"
      ],
      "metadata": {
        "id": "gYGbdQzGBQ0X"
      }
    },
    {
      "cell_type": "code",
      "source": [
        "from sklearn.preprocessing import StandardScaler"
      ],
      "metadata": {
        "id": "ijZ--VSy_pKU"
      },
      "execution_count": 55,
      "outputs": []
    },
    {
      "cell_type": "code",
      "source": [
        "sc = StandardScaler()"
      ],
      "metadata": {
        "id": "f2UdSrfX_pHC"
      },
      "execution_count": 56,
      "outputs": []
    },
    {
      "cell_type": "markdown",
      "source": [
        "**Standardize Original Data**"
      ],
      "metadata": {
        "id": "ZOcWnt81Bjvo"
      }
    },
    {
      "cell_type": "code",
      "source": [
        "X_train[['CreditScore','Age','Tenure','Balance','Estimated Salary']] = sc.fit_transform(X_train[['CreditScore','Age','Tenure','Balance','Estimated Salary']])"
      ],
      "metadata": {
        "id": "7vDmSr76_pDo"
      },
      "execution_count": 57,
      "outputs": []
    },
    {
      "cell_type": "code",
      "source": [
        "X_test[['CreditScore','Age','Tenure','Balance','Estimated Salary']] = sc.fit_transform(X_test[['CreditScore','Age','Tenure','Balance','Estimated Salary']])"
      ],
      "metadata": {
        "id": "Zns2j2SX_o60"
      },
      "execution_count": 58,
      "outputs": []
    },
    {
      "cell_type": "markdown",
      "source": [
        "**Standardize Random Over Sample Data**"
      ],
      "metadata": {
        "id": "53F1ZhbBDZpY"
      }
    },
    {
      "cell_type": "code",
      "source": [
        "X_train_rus[['CreditScore','Age','Tenure','Balance','Estimated Salary']] = sc.fit_transform(X_train_rus[['CreditScore','Age','Tenure','Balance','Estimated Salary']])"
      ],
      "metadata": {
        "id": "AWo40M9H_o4M"
      },
      "execution_count": 59,
      "outputs": []
    },
    {
      "cell_type": "code",
      "source": [
        "X_test_rus[['CreditScore','Age','Tenure','Balance','Estimated Salary']] = sc.fit_transform(X_test_rus[['CreditScore','Age','Tenure','Balance','Estimated Salary']])"
      ],
      "metadata": {
        "id": "eUBHrdgc_o1W"
      },
      "execution_count": 60,
      "outputs": []
    },
    {
      "cell_type": "markdown",
      "source": [
        "**Standardize Random Over Sample Data**"
      ],
      "metadata": {
        "id": "KhmWR20bDayw"
      }
    },
    {
      "cell_type": "code",
      "source": [
        "X_train_ros[['CreditScore','Age','Tenure','Balance','Estimated Salary']] = sc.fit_transform(X_train_ros[['CreditScore','Age','Tenure','Balance','Estimated Salary']])"
      ],
      "metadata": {
        "id": "7RX9LEiQ_oya"
      },
      "execution_count": 61,
      "outputs": []
    },
    {
      "cell_type": "code",
      "source": [
        "X_test_ros[['CreditScore','Age','Tenure','Balance','Estimated Salary']] = sc.fit_transform(X_test_ros[['CreditScore','Age','Tenure','Balance','Estimated Salary']])"
      ],
      "metadata": {
        "id": "AzYaYEKE_ovT"
      },
      "execution_count": 62,
      "outputs": []
    },
    {
      "cell_type": "markdown",
      "source": [
        "# **Support Vector Machine Calssifier**"
      ],
      "metadata": {
        "id": "jck58rfrEOdf"
      }
    },
    {
      "cell_type": "code",
      "source": [
        "from sklearn.svm import SVC"
      ],
      "metadata": {
        "id": "eN2qDqyJEOSY"
      },
      "execution_count": 65,
      "outputs": []
    },
    {
      "cell_type": "code",
      "source": [
        "svc = SVC()"
      ],
      "metadata": {
        "id": "MFA1xujqEOPK"
      },
      "execution_count": 66,
      "outputs": []
    },
    {
      "cell_type": "code",
      "source": [
        "svc.fit(X_train, Y_train)"
      ],
      "metadata": {
        "colab": {
          "base_uri": "https://localhost:8080/"
        },
        "id": "Ql5bFyAsEOLi",
        "outputId": "f0610082-2b37-489f-c3f7-a43763070820"
      },
      "execution_count": 67,
      "outputs": [
        {
          "output_type": "execute_result",
          "data": {
            "text/plain": [
              "SVC()"
            ]
          },
          "metadata": {},
          "execution_count": 67
        }
      ]
    },
    {
      "cell_type": "code",
      "source": [
        "Y_pred = svc.predict(X_test)"
      ],
      "metadata": {
        "id": "-jku_vq7EOFi"
      },
      "execution_count": 68,
      "outputs": []
    },
    {
      "cell_type": "markdown",
      "source": [
        "# **Model Accuracy**"
      ],
      "metadata": {
        "id": "1YmEIPM6EvP2"
      }
    },
    {
      "cell_type": "code",
      "source": [
        "from sklearn.metrics import confusion_matrix, classification_report"
      ],
      "metadata": {
        "id": "dowf_kZBEOCp"
      },
      "execution_count": 69,
      "outputs": []
    },
    {
      "cell_type": "code",
      "source": [
        "confusion_matrix(Y_test, Y_pred)"
      ],
      "metadata": {
        "colab": {
          "base_uri": "https://localhost:8080/"
        },
        "id": "x7D7OUWqEN_Y",
        "outputId": "40073bb7-f43e-4b17-c6dd-a1b30cf73dd7"
      },
      "execution_count": 70,
      "outputs": [
        {
          "output_type": "execute_result",
          "data": {
            "text/plain": [
              "array([[2381,   33],\n",
              "       [ 436,  150]])"
            ]
          },
          "metadata": {},
          "execution_count": 70
        }
      ]
    },
    {
      "cell_type": "code",
      "source": [
        "print(classification_report(Y_test, Y_pred))"
      ],
      "metadata": {
        "colab": {
          "base_uri": "https://localhost:8080/"
        },
        "id": "qdPRg0sGEN8b",
        "outputId": "2b924913-5d35-44e0-92c0-2d5889914482"
      },
      "execution_count": 71,
      "outputs": [
        {
          "output_type": "stream",
          "name": "stdout",
          "text": [
            "              precision    recall  f1-score   support\n",
            "\n",
            "           0       0.85      0.99      0.91      2414\n",
            "           1       0.82      0.26      0.39       586\n",
            "\n",
            "    accuracy                           0.84      3000\n",
            "   macro avg       0.83      0.62      0.65      3000\n",
            "weighted avg       0.84      0.84      0.81      3000\n",
            "\n"
          ]
        }
      ]
    },
    {
      "cell_type": "markdown",
      "source": [
        "# **Hyperparameter Tuning**"
      ],
      "metadata": {
        "id": "wJfD_MxkG1cZ"
      }
    },
    {
      "cell_type": "code",
      "source": [
        "from sklearn.model_selection import GridSearchCV"
      ],
      "metadata": {
        "id": "8r4byrUaG6J6"
      },
      "execution_count": 72,
      "outputs": []
    },
    {
      "cell_type": "code",
      "source": [
        "param_grid = {'C' : [0.1,1,10],\n",
        "              'gamma' : [1,0.1,0.01],\n",
        "              'kernel' : ['rbf'],\n",
        "              'class_weight' : ['balanced']}"
      ],
      "metadata": {
        "id": "QrKHKjj6G6y7"
      },
      "execution_count": 73,
      "outputs": []
    },
    {
      "cell_type": "code",
      "source": [
        "grid = GridSearchCV(SVC(),param_grid, refit = True, verbose = 2, cv = 2)"
      ],
      "metadata": {
        "id": "Zwa8YTaHG6ki"
      },
      "execution_count": 74,
      "outputs": []
    },
    {
      "cell_type": "code",
      "source": [
        "grid.fit(X_train, Y_train)"
      ],
      "metadata": {
        "colab": {
          "base_uri": "https://localhost:8080/"
        },
        "id": "FGsTYsDxG6bN",
        "outputId": "2577bc1e-d5c8-4a6a-efa3-1a67da172b5f"
      },
      "execution_count": 75,
      "outputs": [
        {
          "output_type": "stream",
          "name": "stdout",
          "text": [
            "Fitting 2 folds for each of 9 candidates, totalling 18 fits\n",
            "[CV] END ..C=0.1, class_weight=balanced, gamma=1, kernel=rbf; total time=   3.5s\n",
            "[CV] END ..C=0.1, class_weight=balanced, gamma=1, kernel=rbf; total time=   3.1s\n",
            "[CV] END C=0.1, class_weight=balanced, gamma=0.1, kernel=rbf; total time=   1.4s\n",
            "[CV] END C=0.1, class_weight=balanced, gamma=0.1, kernel=rbf; total time=   1.3s\n",
            "[CV] END C=0.1, class_weight=balanced, gamma=0.01, kernel=rbf; total time=   1.4s\n",
            "[CV] END C=0.1, class_weight=balanced, gamma=0.01, kernel=rbf; total time=   1.4s\n",
            "[CV] END ....C=1, class_weight=balanced, gamma=1, kernel=rbf; total time=   1.5s\n",
            "[CV] END ....C=1, class_weight=balanced, gamma=1, kernel=rbf; total time=   1.5s\n",
            "[CV] END ..C=1, class_weight=balanced, gamma=0.1, kernel=rbf; total time=   1.1s\n",
            "[CV] END ..C=1, class_weight=balanced, gamma=0.1, kernel=rbf; total time=   1.2s\n",
            "[CV] END .C=1, class_weight=balanced, gamma=0.01, kernel=rbf; total time=   1.2s\n",
            "[CV] END .C=1, class_weight=balanced, gamma=0.01, kernel=rbf; total time=   1.3s\n",
            "[CV] END ...C=10, class_weight=balanced, gamma=1, kernel=rbf; total time=   1.5s\n",
            "[CV] END ...C=10, class_weight=balanced, gamma=1, kernel=rbf; total time=   1.5s\n",
            "[CV] END .C=10, class_weight=balanced, gamma=0.1, kernel=rbf; total time=   1.2s\n",
            "[CV] END .C=10, class_weight=balanced, gamma=0.1, kernel=rbf; total time=   1.2s\n",
            "[CV] END C=10, class_weight=balanced, gamma=0.01, kernel=rbf; total time=   1.2s\n",
            "[CV] END C=10, class_weight=balanced, gamma=0.01, kernel=rbf; total time=   1.2s\n"
          ]
        },
        {
          "output_type": "execute_result",
          "data": {
            "text/plain": [
              "GridSearchCV(cv=2, estimator=SVC(),\n",
              "             param_grid={'C': [0.1, 1, 10], 'class_weight': ['balanced'],\n",
              "                         'gamma': [1, 0.1, 0.01], 'kernel': ['rbf']},\n",
              "             verbose=2)"
            ]
          },
          "metadata": {},
          "execution_count": 75
        }
      ]
    },
    {
      "cell_type": "code",
      "source": [
        "print(grid.best_estimator_)"
      ],
      "metadata": {
        "colab": {
          "base_uri": "https://localhost:8080/"
        },
        "id": "io7OQI_EIXXh",
        "outputId": "86c9e450-3dde-4b37-8841-d8b3cd104054"
      },
      "execution_count": 76,
      "outputs": [
        {
          "output_type": "stream",
          "name": "stdout",
          "text": [
            "SVC(C=10, class_weight='balanced', gamma=1)\n"
          ]
        }
      ]
    },
    {
      "cell_type": "code",
      "source": [
        "grid_predictions = grid.predict(X_test)"
      ],
      "metadata": {
        "id": "7F8QbamCIXTl"
      },
      "execution_count": 77,
      "outputs": []
    },
    {
      "cell_type": "code",
      "source": [
        "confusion_matrix(Y_test, grid_predictions)"
      ],
      "metadata": {
        "colab": {
          "base_uri": "https://localhost:8080/"
        },
        "id": "G__MkKsAIXP5",
        "outputId": "b0d96622-e6f2-405d-d0c0-d0a7fca49c4e"
      },
      "execution_count": 78,
      "outputs": [
        {
          "output_type": "execute_result",
          "data": {
            "text/plain": [
              "array([[2159,  255],\n",
              "       [ 343,  243]])"
            ]
          },
          "metadata": {},
          "execution_count": 78
        }
      ]
    },
    {
      "cell_type": "code",
      "source": [
        "print(classification_report(Y_test,grid_predictions))"
      ],
      "metadata": {
        "colab": {
          "base_uri": "https://localhost:8080/"
        },
        "id": "TgL3j63OIXMK",
        "outputId": "db047a9f-6fdc-477e-feb9-18cbef50538f"
      },
      "execution_count": 79,
      "outputs": [
        {
          "output_type": "stream",
          "name": "stdout",
          "text": [
            "              precision    recall  f1-score   support\n",
            "\n",
            "           0       0.86      0.89      0.88      2414\n",
            "           1       0.49      0.41      0.45       586\n",
            "\n",
            "    accuracy                           0.80      3000\n",
            "   macro avg       0.68      0.65      0.66      3000\n",
            "weighted avg       0.79      0.80      0.79      3000\n",
            "\n"
          ]
        }
      ]
    },
    {
      "cell_type": "markdown",
      "source": [
        "# **Model with Random Under Sampling**"
      ],
      "metadata": {
        "id": "hyBKX5h6JMYI"
      }
    },
    {
      "cell_type": "code",
      "source": [
        "svc_rus = SVC()"
      ],
      "metadata": {
        "id": "69EZbyhOJEWv"
      },
      "execution_count": 80,
      "outputs": []
    },
    {
      "cell_type": "code",
      "source": [
        "svc_rus.fit(X_train_rus, Y_train_rus)"
      ],
      "metadata": {
        "colab": {
          "base_uri": "https://localhost:8080/"
        },
        "id": "RFT96szCJEUC",
        "outputId": "532b1d11-14c8-40b4-b960-c27967916b4e"
      },
      "execution_count": 81,
      "outputs": [
        {
          "output_type": "execute_result",
          "data": {
            "text/plain": [
              "SVC()"
            ]
          },
          "metadata": {},
          "execution_count": 81
        }
      ]
    },
    {
      "cell_type": "code",
      "source": [
        "Y_pred_rus = svc_rus.predict(X_test_rus)"
      ],
      "metadata": {
        "id": "-JwMLTOsJEQu"
      },
      "execution_count": 83,
      "outputs": []
    },
    {
      "cell_type": "markdown",
      "source": [
        "# **Model Accuracy**"
      ],
      "metadata": {
        "id": "vjAXttsBKKWt"
      }
    },
    {
      "cell_type": "code",
      "source": [
        "confusion_matrix(Y_test_rus,Y_pred_rus)"
      ],
      "metadata": {
        "colab": {
          "base_uri": "https://localhost:8080/"
        },
        "id": "kWA96nRwJENX",
        "outputId": "a19ef067-255e-46b2-eb62-a8c380735c7d"
      },
      "execution_count": 84,
      "outputs": [
        {
          "output_type": "execute_result",
          "data": {
            "text/plain": [
              "array([[470, 157],\n",
              "       [174, 422]])"
            ]
          },
          "metadata": {},
          "execution_count": 84
        }
      ]
    },
    {
      "cell_type": "code",
      "source": [
        "print(classification_report(Y_test_rus, Y_pred_rus))"
      ],
      "metadata": {
        "colab": {
          "base_uri": "https://localhost:8080/"
        },
        "id": "o2peVqekKiq_",
        "outputId": "42d8c39c-0470-41d4-d3bf-f9d65ae776c1"
      },
      "execution_count": 85,
      "outputs": [
        {
          "output_type": "stream",
          "name": "stdout",
          "text": [
            "              precision    recall  f1-score   support\n",
            "\n",
            "           0       0.73      0.75      0.74       627\n",
            "           1       0.73      0.71      0.72       596\n",
            "\n",
            "    accuracy                           0.73      1223\n",
            "   macro avg       0.73      0.73      0.73      1223\n",
            "weighted avg       0.73      0.73      0.73      1223\n",
            "\n"
          ]
        }
      ]
    },
    {
      "cell_type": "markdown",
      "source": [
        "# **Hyperparameter Tunning**"
      ],
      "metadata": {
        "id": "N5LygzvxRK5G"
      }
    },
    {
      "cell_type": "code",
      "source": [
        "param_grid = {'C' : [0.1,1,10],\n",
        "              'gamma' : [1,0.1,0.01],\n",
        "              'kernel' : ['rbf'],\n",
        "              'class_weight' : ['balanced']}"
      ],
      "metadata": {
        "id": "5OWYUS_8RHcA"
      },
      "execution_count": 86,
      "outputs": []
    },
    {
      "cell_type": "code",
      "source": [
        "grid_rus = GridSearchCV(SVC(),param_grid, refit = True, verbose = 2, cv = 2)"
      ],
      "metadata": {
        "id": "slM84fFNRHVE"
      },
      "execution_count": 88,
      "outputs": []
    },
    {
      "cell_type": "code",
      "source": [
        "grid_rus.fit(X_train_rus, Y_train_rus)"
      ],
      "metadata": {
        "colab": {
          "base_uri": "https://localhost:8080/"
        },
        "id": "MBzd1xyeRlBh",
        "outputId": "e593eb00-8bee-4b1c-82f8-a1a19d3c7f09"
      },
      "execution_count": 89,
      "outputs": [
        {
          "output_type": "stream",
          "name": "stdout",
          "text": [
            "Fitting 2 folds for each of 9 candidates, totalling 18 fits\n",
            "[CV] END ..C=0.1, class_weight=balanced, gamma=1, kernel=rbf; total time=   0.3s\n",
            "[CV] END ..C=0.1, class_weight=balanced, gamma=1, kernel=rbf; total time=   0.3s\n",
            "[CV] END C=0.1, class_weight=balanced, gamma=0.1, kernel=rbf; total time=   0.2s\n",
            "[CV] END C=0.1, class_weight=balanced, gamma=0.1, kernel=rbf; total time=   0.2s\n",
            "[CV] END C=0.1, class_weight=balanced, gamma=0.01, kernel=rbf; total time=   0.3s\n",
            "[CV] END C=0.1, class_weight=balanced, gamma=0.01, kernel=rbf; total time=   0.3s\n",
            "[CV] END ....C=1, class_weight=balanced, gamma=1, kernel=rbf; total time=   0.3s\n",
            "[CV] END ....C=1, class_weight=balanced, gamma=1, kernel=rbf; total time=   0.3s\n",
            "[CV] END ..C=1, class_weight=balanced, gamma=0.1, kernel=rbf; total time=   0.2s\n",
            "[CV] END ..C=1, class_weight=balanced, gamma=0.1, kernel=rbf; total time=   0.2s\n",
            "[CV] END .C=1, class_weight=balanced, gamma=0.01, kernel=rbf; total time=   0.2s\n",
            "[CV] END .C=1, class_weight=balanced, gamma=0.01, kernel=rbf; total time=   0.2s\n",
            "[CV] END ...C=10, class_weight=balanced, gamma=1, kernel=rbf; total time=   0.3s\n",
            "[CV] END ...C=10, class_weight=balanced, gamma=1, kernel=rbf; total time=   0.3s\n",
            "[CV] END .C=10, class_weight=balanced, gamma=0.1, kernel=rbf; total time=   0.2s\n",
            "[CV] END .C=10, class_weight=balanced, gamma=0.1, kernel=rbf; total time=   0.2s\n",
            "[CV] END C=10, class_weight=balanced, gamma=0.01, kernel=rbf; total time=   0.2s\n",
            "[CV] END C=10, class_weight=balanced, gamma=0.01, kernel=rbf; total time=   0.2s\n"
          ]
        },
        {
          "output_type": "execute_result",
          "data": {
            "text/plain": [
              "GridSearchCV(cv=2, estimator=SVC(),\n",
              "             param_grid={'C': [0.1, 1, 10], 'class_weight': ['balanced'],\n",
              "                         'gamma': [1, 0.1, 0.01], 'kernel': ['rbf']},\n",
              "             verbose=2)"
            ]
          },
          "metadata": {},
          "execution_count": 89
        }
      ]
    },
    {
      "cell_type": "code",
      "source": [
        "print(grid_rus.best_estimator_)"
      ],
      "metadata": {
        "colab": {
          "base_uri": "https://localhost:8080/"
        },
        "id": "ChJpTo4RR7sS",
        "outputId": "82ac4b77-0d6d-4d9f-c785-01285569916b"
      },
      "execution_count": 90,
      "outputs": [
        {
          "output_type": "stream",
          "name": "stdout",
          "text": [
            "SVC(C=1, class_weight='balanced', gamma=0.1)\n"
          ]
        }
      ]
    },
    {
      "cell_type": "code",
      "source": [
        "grid_predictions_rus = grid_rus.predict(X_test_rus)"
      ],
      "metadata": {
        "id": "pMo7ZP8ER7pd"
      },
      "execution_count": 95,
      "outputs": []
    },
    {
      "cell_type": "code",
      "source": [
        "confusion_matrix(Y_test_rus,grid_predictions_rus)"
      ],
      "metadata": {
        "colab": {
          "base_uri": "https://localhost:8080/"
        },
        "id": "pPzcL6faR7mf",
        "outputId": "31742854-9cab-4110-ddca-2627b30f55ec"
      },
      "execution_count": 96,
      "outputs": [
        {
          "output_type": "execute_result",
          "data": {
            "text/plain": [
              "array([[476, 151],\n",
              "       [172, 424]])"
            ]
          },
          "metadata": {},
          "execution_count": 96
        }
      ]
    },
    {
      "cell_type": "code",
      "source": [
        "print(classification_report(Y_test_rus, grid_predictions_rus))"
      ],
      "metadata": {
        "colab": {
          "base_uri": "https://localhost:8080/"
        },
        "id": "zjY9lBBvT7Fr",
        "outputId": "be73e966-d487-4ef5-efb5-ea45fb5b2422"
      },
      "execution_count": 97,
      "outputs": [
        {
          "output_type": "stream",
          "name": "stdout",
          "text": [
            "              precision    recall  f1-score   support\n",
            "\n",
            "           0       0.73      0.76      0.75       627\n",
            "           1       0.74      0.71      0.72       596\n",
            "\n",
            "    accuracy                           0.74      1223\n",
            "   macro avg       0.74      0.74      0.74      1223\n",
            "weighted avg       0.74      0.74      0.74      1223\n",
            "\n"
          ]
        }
      ]
    },
    {
      "cell_type": "markdown",
      "source": [
        "# **Model with Random Over Sampling**"
      ],
      "metadata": {
        "id": "xkKaxIdgUqPT"
      }
    },
    {
      "cell_type": "code",
      "source": [
        "svc_ros = SVC()"
      ],
      "metadata": {
        "id": "j8XqySscU4JG"
      },
      "execution_count": 98,
      "outputs": []
    },
    {
      "cell_type": "code",
      "source": [
        "svc_ros.fit(X_train_ros, Y_train_ros)"
      ],
      "metadata": {
        "colab": {
          "base_uri": "https://localhost:8080/"
        },
        "id": "9MBNToX2U4Ff",
        "outputId": "be0ad98e-37b1-4cc3-9876-ba220a795679"
      },
      "execution_count": 99,
      "outputs": [
        {
          "output_type": "execute_result",
          "data": {
            "text/plain": [
              "SVC()"
            ]
          },
          "metadata": {},
          "execution_count": 99
        }
      ]
    },
    {
      "cell_type": "code",
      "source": [
        "Y_pred_ros = svc_ros.predict(X_test_ros)"
      ],
      "metadata": {
        "id": "Hz52FEj-U4A0"
      },
      "execution_count": 100,
      "outputs": []
    },
    {
      "cell_type": "markdown",
      "source": [
        "# **Model Accuracy**"
      ],
      "metadata": {
        "id": "_DJHJFcuUqG3"
      }
    },
    {
      "cell_type": "code",
      "source": [
        "confusion_matrix(Y_test_ros, Y_pred_ros)"
      ],
      "metadata": {
        "colab": {
          "base_uri": "https://localhost:8080/"
        },
        "id": "nS5rMHFBViYd",
        "outputId": "59ac98dc-b781-43fb-b5d7-137f482d7be8"
      },
      "execution_count": 102,
      "outputs": [
        {
          "output_type": "execute_result",
          "data": {
            "text/plain": [
              "array([[1823,  556],\n",
              "       [ 626, 1773]])"
            ]
          },
          "metadata": {},
          "execution_count": 102
        }
      ]
    },
    {
      "cell_type": "code",
      "source": [
        "print(classification_report(Y_test_ros, Y_pred_ros))"
      ],
      "metadata": {
        "colab": {
          "base_uri": "https://localhost:8080/"
        },
        "id": "vZnzE1IBViUl",
        "outputId": "c3f901c4-8b39-4c1b-bf3c-46673108c78c"
      },
      "execution_count": 104,
      "outputs": [
        {
          "output_type": "stream",
          "name": "stdout",
          "text": [
            "              precision    recall  f1-score   support\n",
            "\n",
            "           0       0.74      0.77      0.76      2379\n",
            "           1       0.76      0.74      0.75      2399\n",
            "\n",
            "    accuracy                           0.75      4778\n",
            "   macro avg       0.75      0.75      0.75      4778\n",
            "weighted avg       0.75      0.75      0.75      4778\n",
            "\n"
          ]
        }
      ]
    },
    {
      "cell_type": "markdown",
      "source": [
        "# **Hyperparameter Tunning**"
      ],
      "metadata": {
        "id": "asqfZLppWBi8"
      }
    },
    {
      "cell_type": "code",
      "source": [
        "param_grid = {'C' : [0.1,1,10],\n",
        "              'gamma' : [1,0.1,0.01],\n",
        "              'kernel' : ['rbf'],\n",
        "              'class_weight' : ['balanced']}"
      ],
      "metadata": {
        "id": "ZZEvfsLeViQv"
      },
      "execution_count": 105,
      "outputs": []
    },
    {
      "cell_type": "code",
      "source": [
        "grid_ros = GridSearchCV(SVC(),param_grid, refit = True, verbose = 2, cv = 2)"
      ],
      "metadata": {
        "id": "yom-SE5VViLi"
      },
      "execution_count": 106,
      "outputs": []
    },
    {
      "cell_type": "code",
      "source": [
        "grid_ros.fit(X_train_ros,Y_train_ros)"
      ],
      "metadata": {
        "colab": {
          "base_uri": "https://localhost:8080/"
        },
        "id": "_oo4rQqDWTDB",
        "outputId": "aa923c27-cc1a-422e-9118-5e76b82b418e"
      },
      "execution_count": 107,
      "outputs": [
        {
          "output_type": "stream",
          "name": "stdout",
          "text": [
            "Fitting 2 folds for each of 9 candidates, totalling 18 fits\n",
            "[CV] END ..C=0.1, class_weight=balanced, gamma=1, kernel=rbf; total time=   4.4s\n",
            "[CV] END ..C=0.1, class_weight=balanced, gamma=1, kernel=rbf; total time=   4.4s\n",
            "[CV] END C=0.1, class_weight=balanced, gamma=0.1, kernel=rbf; total time=   3.3s\n",
            "[CV] END C=0.1, class_weight=balanced, gamma=0.1, kernel=rbf; total time=   3.2s\n",
            "[CV] END C=0.1, class_weight=balanced, gamma=0.01, kernel=rbf; total time=   3.7s\n",
            "[CV] END C=0.1, class_weight=balanced, gamma=0.01, kernel=rbf; total time=   3.5s\n",
            "[CV] END ....C=1, class_weight=balanced, gamma=1, kernel=rbf; total time=   3.7s\n",
            "[CV] END ....C=1, class_weight=balanced, gamma=1, kernel=rbf; total time=   3.7s\n",
            "[CV] END ..C=1, class_weight=balanced, gamma=0.1, kernel=rbf; total time=   2.9s\n",
            "[CV] END ..C=1, class_weight=balanced, gamma=0.1, kernel=rbf; total time=   2.9s\n",
            "[CV] END .C=1, class_weight=balanced, gamma=0.01, kernel=rbf; total time=   3.2s\n",
            "[CV] END .C=1, class_weight=balanced, gamma=0.01, kernel=rbf; total time=   3.1s\n",
            "[CV] END ...C=10, class_weight=balanced, gamma=1, kernel=rbf; total time=   3.6s\n",
            "[CV] END ...C=10, class_weight=balanced, gamma=1, kernel=rbf; total time=   3.5s\n",
            "[CV] END .C=10, class_weight=balanced, gamma=0.1, kernel=rbf; total time=   3.2s\n",
            "[CV] END .C=10, class_weight=balanced, gamma=0.1, kernel=rbf; total time=   3.1s\n",
            "[CV] END C=10, class_weight=balanced, gamma=0.01, kernel=rbf; total time=   3.1s\n",
            "[CV] END C=10, class_weight=balanced, gamma=0.01, kernel=rbf; total time=   2.9s\n"
          ]
        },
        {
          "output_type": "execute_result",
          "data": {
            "text/plain": [
              "GridSearchCV(cv=2, estimator=SVC(),\n",
              "             param_grid={'C': [0.1, 1, 10], 'class_weight': ['balanced'],\n",
              "                         'gamma': [1, 0.1, 0.01], 'kernel': ['rbf']},\n",
              "             verbose=2)"
            ]
          },
          "metadata": {},
          "execution_count": 107
        }
      ]
    },
    {
      "cell_type": "code",
      "source": [
        "print(grid_ros.best_estimator_)"
      ],
      "metadata": {
        "colab": {
          "base_uri": "https://localhost:8080/"
        },
        "id": "Acsxhuu8W-k3",
        "outputId": "28a2826d-9d75-47f1-ea04-10065fb1d01c"
      },
      "execution_count": 108,
      "outputs": [
        {
          "output_type": "stream",
          "name": "stdout",
          "text": [
            "SVC(C=10, class_weight='balanced', gamma=1)\n"
          ]
        }
      ]
    },
    {
      "cell_type": "code",
      "source": [
        "grid_predictions_ros = grid_ros.predict(X_test_ros)"
      ],
      "metadata": {
        "id": "Iy0ZQ5L1W-Bd"
      },
      "execution_count": 109,
      "outputs": []
    },
    {
      "cell_type": "code",
      "source": [
        "print(classification_report(Y_test_ros, grid_predictions_ros))"
      ],
      "metadata": {
        "colab": {
          "base_uri": "https://localhost:8080/"
        },
        "id": "EiiUSAEUW98U",
        "outputId": "1d185881-7deb-43e9-af81-c9c44b16b233"
      },
      "execution_count": 112,
      "outputs": [
        {
          "output_type": "stream",
          "name": "stdout",
          "text": [
            "              precision    recall  f1-score   support\n",
            "\n",
            "           0       0.97      0.86      0.91      2379\n",
            "           1       0.88      0.97      0.92      2399\n",
            "\n",
            "    accuracy                           0.92      4778\n",
            "   macro avg       0.92      0.92      0.92      4778\n",
            "weighted avg       0.92      0.92      0.92      4778\n",
            "\n"
          ]
        }
      ]
    }
  ]
}